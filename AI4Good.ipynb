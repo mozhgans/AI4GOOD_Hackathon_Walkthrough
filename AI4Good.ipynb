{
  "nbformat": 4,
  "nbformat_minor": 0,
  "metadata": {
    "colab": {
      "name": "AI4Good.ipynb",
      "provenance": [],
      "authorship_tag": "ABX9TyOMKMZgujPuqSkHWWGG/3Bm",
      "include_colab_link": true
    },
    "kernelspec": {
      "name": "python3",
      "display_name": "Python 3"
    }
  },
  "cells": [
    {
      "cell_type": "markdown",
      "metadata": {
        "id": "view-in-github",
        "colab_type": "text"
      },
      "source": [
        "<a href=\"https://colab.research.google.com/github/mozhgans/AI4GOOD_Hackathon_Walkthrough/blob/main/AI4Good.ipynb\" target=\"_parent\"><img src=\"https://colab.research.google.com/assets/colab-badge.svg\" alt=\"Open In Colab\"/></a>"
      ]
    },
    {
      "cell_type": "code",
      "metadata": {
        "id": "8riN9GCDOUuh"
      },
      "source": [
        "import pandas as pd\n",
        "import numpy as np"
      ],
      "execution_count": 8,
      "outputs": []
    },
    {
      "cell_type": "code",
      "metadata": {
        "id": "or6ITCjKOcqr",
        "outputId": "6ced13ae-61c6-403c-c9c3-5708f53c9910",
        "colab": {
          "base_uri": "https://localhost:8080/"
        }
      },
      "source": [
        "from google.colab import drive\n",
        "drive.mount('/content/drive/')"
      ],
      "execution_count": 9,
      "outputs": [
        {
          "output_type": "stream",
          "text": [
            "Drive already mounted at /content/drive/; to attempt to forcibly remount, call drive.mount(\"/content/drive/\", force_remount=True).\n"
          ],
          "name": "stdout"
        }
      ]
    },
    {
      "cell_type": "code",
      "metadata": {
        "id": "e0pOLf1BOucZ"
      },
      "source": [
        "cp '/content/drive/My Drive/projects/AIForGood2020' . -r   "
      ],
      "execution_count": 11,
      "outputs": []
    },
    {
      "cell_type": "code",
      "metadata": {
        "id": "Cg2f-hE6PHKf",
        "outputId": "efebbfaf-6a83-495e-8ef4-34030cd92b06",
        "colab": {
          "base_uri": "https://localhost:8080/"
        }
      },
      "source": [
        "cd AIForGood2020/"
      ],
      "execution_count": 12,
      "outputs": [
        {
          "output_type": "stream",
          "text": [
            "/content/drive/.shortcut-targets-by-id/192dLwBRwwmU3N6MwfW-KhVBUraQoLmTq/AIForGood2020\n"
          ],
          "name": "stdout"
        }
      ]
    },
    {
      "cell_type": "code",
      "metadata": {
        "id": "xKw1LAEbe7EW",
        "outputId": "4caaf6c2-63fc-4beb-dca8-e13f2893d9d7",
        "colab": {
          "base_uri": "https://localhost:8080/"
        }
      },
      "source": [
        "!unrar e -p*hack20 211GrandMontreal_DataPack.rar"
      ],
      "execution_count": 13,
      "outputs": [
        {
          "output_type": "stream",
          "text": [
            "\n",
            "UNRAR 5.50 freeware      Copyright (c) 1993-2017 Alexander Roshal\n",
            "\n",
            "\n",
            "Extracting from 211GrandMontreal_DataPack.rar\n",
            "\n",
            "\n",
            "Would you like to replace the existing file Références.xlsx\n",
            "7966092 bytes, modified on 2020-09-04 16:05\n",
            "with a new one\n",
            "7966092 bytes, modified on 2020-09-04 16:05\n",
            "\n",
            "[Y]es, [N]o, [A]ll, n[E]ver, [R]ename, [Q]uit A\n",
            "\n",
            "Extracting  Références.xlsx                                              \b\b\b\b 14%\b\b\b\b 26%\b\b\b\b\b  OK \n",
            "Extracting  Appels.xlsx                                                  \b\b\b\b 37%\b\b\b\b\b  OK \n",
            "Extracting  Appels_Profil.xlsx                                           \b\b\b\b 47%\b\b\b\b\b  OK \n",
            "Extracting  BDorg_Contact.xlsx                                           \b\b\b\b 48%\b\b\b\b\b  OK \n",
            "Extracting  BDorg_Général.xlsx                                           \b\b\b\b 50%\b\b\b\b\b  OK \n",
            "Extracting  BDorg_information.xlsx                                       \b\b\b\b 54%\b\b\b\b\b  OK \n",
            "Extracting  BDorg_Localisation.xlsx                                      \b\b\b\b 55%\b\b\b\b\b  OK \n",
            "Extracting  BDorg_Taxonomies.xlsx                                        \b\b\b\b 58%\b\b\b\b\b  OK \n",
            "Extracting  BDorg_Territoire desservi.xlsx                               \b\b\b\b 58%\b\b\b\b\b  OK \n",
            "Extracting  Besoins.xlsx                                                 \b\b\b\b 72%\b\b\b\b 86%\b\b\b\b 99%\b\b\b\b\b  OK \n",
            "Extracting  Municipalités.xlsx                                           \b\b\b\b 99%\b\b\b\b\b  OK \n",
            "All OK\n"
          ],
          "name": "stdout"
        }
      ]
    },
    {
      "cell_type": "code",
      "metadata": {
        "id": "F4yHxlTFe7HM"
      },
      "source": [
        ""
      ],
      "execution_count": null,
      "outputs": []
    },
    {
      "cell_type": "code",
      "metadata": {
        "id": "AKwOPTJfe7LP"
      },
      "source": [
        ""
      ],
      "execution_count": null,
      "outputs": []
    },
    {
      "cell_type": "code",
      "metadata": {
        "id": "NmGAYbr7e7Q_"
      },
      "source": [
        ""
      ],
      "execution_count": null,
      "outputs": []
    }
  ]
}