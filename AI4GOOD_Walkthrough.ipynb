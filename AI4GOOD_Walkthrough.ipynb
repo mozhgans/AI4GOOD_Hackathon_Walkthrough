{
  "nbformat": 4,
  "nbformat_minor": 0,
  "metadata": {
    "colab": {
      "name": "AI4GOOD Walkthrough.ipynb",
      "provenance": [],
      "collapsed_sections": [
        "nCYFUnQplTLf"
      ]
    },
    "kernelspec": {
      "name": "python3",
      "display_name": "Python 3"
    }
  },
  "cells": [
    {
      "cell_type": "code",
      "metadata": {
        "id": "98kV12-QIaMT"
      },
      "source": [
        "import pandas as pd\n",
        "import numpy as np"
      ],
      "execution_count": 1,
      "outputs": []
    },
    {
      "cell_type": "markdown",
      "metadata": {
        "id": "CKKWJft7vggP"
      },
      "source": [
        "# LOAD COMPLAINTS DATA"
      ]
    },
    {
      "cell_type": "code",
      "metadata": {
        "id": "v6vdaYp3JAE1",
        "outputId": "dc58fcdb-1bb3-4795-8ac5-b67b7a8de027",
        "colab": {
          "resources": {
            "http://localhost:8080/nbextensions/google.colab/files.js": {
              "data": "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",
              "ok": true,
              "headers": [
                [
                  "content-type",
                  "application/javascript"
                ]
              ],
              "status": 200,
              "status_text": ""
            }
          },
          "base_uri": "https://localhost:8080/",
          "height": 72
        }
      },
      "source": [
        "from google.colab import files\n",
        "uploaded = files.upload()"
      ],
      "execution_count": 2,
      "outputs": [
        {
          "output_type": "display_data",
          "data": {
            "text/html": [
              "\n",
              "     <input type=\"file\" id=\"files-5d01d0a5-0874-4be9-89d8-f3f6c20a4739\" name=\"files[]\" multiple disabled\n",
              "        style=\"border:none\" />\n",
              "     <output id=\"result-5d01d0a5-0874-4be9-89d8-f3f6c20a4739\">\n",
              "      Upload widget is only available when the cell has been executed in the\n",
              "      current browser session. Please rerun this cell to enable.\n",
              "      </output>\n",
              "      <script src=\"/nbextensions/google.colab/files.js\"></script> "
            ],
            "text/plain": [
              "<IPython.core.display.HTML object>"
            ]
          },
          "metadata": {
            "tags": []
          }
        },
        {
          "output_type": "stream",
          "text": [
            "Saving complaint.csv to complaint.csv\n"
          ],
          "name": "stdout"
        }
      ]
    },
    {
      "cell_type": "code",
      "metadata": {
        "id": "0TaKSAbIIv-3"
      },
      "source": [
        "complaints = pd.read_csv(\"complaint.csv\", index_col=0)"
      ],
      "execution_count": 3,
      "outputs": []
    },
    {
      "cell_type": "code",
      "metadata": {
        "id": "gzFo-lUTJIpM",
        "outputId": "c0f65355-eced-41a1-8252-0b100b33eb16",
        "colab": {
          "base_uri": "https://localhost:8080/",
          "height": 411
        }
      },
      "source": [
        "complaints.head()"
      ],
      "execution_count": 4,
      "outputs": [
        {
          "output_type": "execute_result",
          "data": {
            "text/html": [
              "<div>\n",
              "<style scoped>\n",
              "    .dataframe tbody tr th:only-of-type {\n",
              "        vertical-align: middle;\n",
              "    }\n",
              "\n",
              "    .dataframe tbody tr th {\n",
              "        vertical-align: top;\n",
              "    }\n",
              "\n",
              "    .dataframe thead th {\n",
              "        text-align: right;\n",
              "    }\n",
              "</style>\n",
              "<table border=\"1\" class=\"dataframe\">\n",
              "  <thead>\n",
              "    <tr style=\"text-align: right;\">\n",
              "      <th></th>\n",
              "      <th>ID_UNIQUE</th>\n",
              "      <th>NATURE</th>\n",
              "      <th>ACTI_NOM</th>\n",
              "      <th>TYPE_LIEU_INTERV</th>\n",
              "      <th>RUE</th>\n",
              "      <th>RUE_INTERSECTION1</th>\n",
              "      <th>RUE_INTERSECTION2</th>\n",
              "      <th>LOC_ERREUR_GDT</th>\n",
              "      <th>ARRONDISSEMENT</th>\n",
              "      <th>ARRONDISSEMENT_GEO</th>\n",
              "      <th>LIN_CODE_POSTAL</th>\n",
              "      <th>DDS_DATE_CREATION</th>\n",
              "      <th>PROVENANCE_ORIGINALE</th>\n",
              "      <th>PROVENANCE_TELEPHONE</th>\n",
              "      <th>PROVENANCE_COURRIEL</th>\n",
              "      <th>PROVENANCE_PERSONNE</th>\n",
              "      <th>PROVENANCE_COURRIER</th>\n",
              "      <th>PROVENANCE_TELECOPIEUR</th>\n",
              "      <th>PROVENANCE_INSTANCE</th>\n",
              "      <th>PROVENANCE_MOBILE</th>\n",
              "      <th>PROVENANCE_MEDIASOCIAUX</th>\n",
              "      <th>PROVENANCE_SITEINTERNET</th>\n",
              "      <th>UNITE_RESP_PARENT</th>\n",
              "      <th>LOC_LONG</th>\n",
              "      <th>LOC_LAT</th>\n",
              "      <th>LOC_X</th>\n",
              "      <th>LOC_Y</th>\n",
              "      <th>DERNIER_STATUT</th>\n",
              "      <th>DATE_DERNIER_STATUT</th>\n",
              "    </tr>\n",
              "  </thead>\n",
              "  <tbody>\n",
              "    <tr>\n",
              "      <th>1901626</th>\n",
              "      <td>17-70303</td>\n",
              "      <td>Plainte</td>\n",
              "      <td>Direction - Affaires pénales et criminelles</td>\n",
              "      <td>Adresse</td>\n",
              "      <td>NaN</td>\n",
              "      <td>NaN</td>\n",
              "      <td>NaN</td>\n",
              "      <td>1.0</td>\n",
              "      <td>Ville de Montréal</td>\n",
              "      <td>NaN</td>\n",
              "      <td>NaN</td>\n",
              "      <td>2017-03-07T14:37:01</td>\n",
              "      <td>Téléphone</td>\n",
              "      <td>1</td>\n",
              "      <td>0</td>\n",
              "      <td>0</td>\n",
              "      <td>0</td>\n",
              "      <td>0</td>\n",
              "      <td>0</td>\n",
              "      <td>0</td>\n",
              "      <td>0</td>\n",
              "      <td>0</td>\n",
              "      <td>DIRECTION DES AFFAIRES PENALES ET CRIMINELLES</td>\n",
              "      <td>NaN</td>\n",
              "      <td>NaN</td>\n",
              "      <td>NaN</td>\n",
              "      <td>NaN</td>\n",
              "      <td>Refusée</td>\n",
              "      <td>2017-03-08T10:14:58</td>\n",
              "    </tr>\n",
              "    <tr>\n",
              "      <th>1901646</th>\n",
              "      <td>18-165551</td>\n",
              "      <td>Plainte</td>\n",
              "      <td>Cour municipale</td>\n",
              "      <td>Adresse</td>\n",
              "      <td>boulevard Saint-Jean</td>\n",
              "      <td>NaN</td>\n",
              "      <td>NaN</td>\n",
              "      <td>NaN</td>\n",
              "      <td>Pointe-Claire</td>\n",
              "      <td>NaN</td>\n",
              "      <td>H9R3J2</td>\n",
              "      <td>2018-05-31T16:46:36</td>\n",
              "      <td>Téléphone</td>\n",
              "      <td>1</td>\n",
              "      <td>0</td>\n",
              "      <td>0</td>\n",
              "      <td>0</td>\n",
              "      <td>0</td>\n",
              "      <td>0</td>\n",
              "      <td>0</td>\n",
              "      <td>0</td>\n",
              "      <td>0</td>\n",
              "      <td>SERVICE DES AFFAIRES JURIDIQUES</td>\n",
              "      <td>NaN</td>\n",
              "      <td>NaN</td>\n",
              "      <td>NaN</td>\n",
              "      <td>NaN</td>\n",
              "      <td>Terminée</td>\n",
              "      <td>2018-06-15T15:34:44</td>\n",
              "    </tr>\n",
              "    <tr>\n",
              "      <th>1901662</th>\n",
              "      <td>18-273642</td>\n",
              "      <td>Plainte</td>\n",
              "      <td>Centre de services 311</td>\n",
              "      <td>Adresse</td>\n",
              "      <td>NaN</td>\n",
              "      <td>NaN</td>\n",
              "      <td>NaN</td>\n",
              "      <td>NaN</td>\n",
              "      <td>Ville de Montréal</td>\n",
              "      <td>NaN</td>\n",
              "      <td>NaN</td>\n",
              "      <td>2018-08-25T10:12:08</td>\n",
              "      <td>Téléphone</td>\n",
              "      <td>1</td>\n",
              "      <td>0</td>\n",
              "      <td>0</td>\n",
              "      <td>0</td>\n",
              "      <td>0</td>\n",
              "      <td>0</td>\n",
              "      <td>0</td>\n",
              "      <td>0</td>\n",
              "      <td>0</td>\n",
              "      <td>DIRECTION GÉNÉRALE</td>\n",
              "      <td>NaN</td>\n",
              "      <td>NaN</td>\n",
              "      <td>NaN</td>\n",
              "      <td>NaN</td>\n",
              "      <td>Terminée</td>\n",
              "      <td>2018-08-26T15:36:51</td>\n",
              "    </tr>\n",
              "    <tr>\n",
              "      <th>1901665</th>\n",
              "      <td>18-298856</td>\n",
              "      <td>Plainte</td>\n",
              "      <td>Centre de services 311</td>\n",
              "      <td>Adresse</td>\n",
              "      <td>NaN</td>\n",
              "      <td>NaN</td>\n",
              "      <td>NaN</td>\n",
              "      <td>NaN</td>\n",
              "      <td>Ville de Montréal</td>\n",
              "      <td>NaN</td>\n",
              "      <td>NaN</td>\n",
              "      <td>2018-09-15T14:47:29</td>\n",
              "      <td>Téléphone</td>\n",
              "      <td>1</td>\n",
              "      <td>0</td>\n",
              "      <td>0</td>\n",
              "      <td>0</td>\n",
              "      <td>0</td>\n",
              "      <td>0</td>\n",
              "      <td>0</td>\n",
              "      <td>0</td>\n",
              "      <td>0</td>\n",
              "      <td>DIRECTION GÉNÉRALE</td>\n",
              "      <td>NaN</td>\n",
              "      <td>NaN</td>\n",
              "      <td>NaN</td>\n",
              "      <td>NaN</td>\n",
              "      <td>Terminée</td>\n",
              "      <td>2018-09-16T11:09:10</td>\n",
              "    </tr>\n",
              "    <tr>\n",
              "      <th>1901682</th>\n",
              "      <td>18-394456</td>\n",
              "      <td>Plainte</td>\n",
              "      <td>Cour municipale</td>\n",
              "      <td>Adresse</td>\n",
              "      <td>NaN</td>\n",
              "      <td>NaN</td>\n",
              "      <td>NaN</td>\n",
              "      <td>NaN</td>\n",
              "      <td>Ville de Montréal</td>\n",
              "      <td>NaN</td>\n",
              "      <td>NaN</td>\n",
              "      <td>2018-12-20T11:02:06</td>\n",
              "      <td>Téléphone</td>\n",
              "      <td>1</td>\n",
              "      <td>0</td>\n",
              "      <td>0</td>\n",
              "      <td>0</td>\n",
              "      <td>0</td>\n",
              "      <td>0</td>\n",
              "      <td>0</td>\n",
              "      <td>0</td>\n",
              "      <td>0</td>\n",
              "      <td>SERVICE DES AFFAIRES JURIDIQUES</td>\n",
              "      <td>NaN</td>\n",
              "      <td>NaN</td>\n",
              "      <td>NaN</td>\n",
              "      <td>NaN</td>\n",
              "      <td>Refusée</td>\n",
              "      <td>2019-01-03T07:28:59</td>\n",
              "    </tr>\n",
              "  </tbody>\n",
              "</table>\n",
              "</div>"
            ],
            "text/plain": [
              "         ID_UNIQUE   NATURE  ... DERNIER_STATUT  DATE_DERNIER_STATUT\n",
              "1901626   17-70303  Plainte  ...        Refusée  2017-03-08T10:14:58\n",
              "1901646  18-165551  Plainte  ...       Terminée  2018-06-15T15:34:44\n",
              "1901662  18-273642  Plainte  ...       Terminée  2018-08-26T15:36:51\n",
              "1901665  18-298856  Plainte  ...       Terminée  2018-09-16T11:09:10\n",
              "1901682  18-394456  Plainte  ...        Refusée  2019-01-03T07:28:59\n",
              "\n",
              "[5 rows x 29 columns]"
            ]
          },
          "metadata": {
            "tags": []
          },
          "execution_count": 4
        }
      ]
    },
    {
      "cell_type": "markdown",
      "metadata": {
        "id": "VxlSv9OQvmFI"
      },
      "source": [
        "# LOAD WEATHER DATA"
      ]
    },
    {
      "cell_type": "code",
      "metadata": {
        "id": "wqoJ8ihcvs7h",
        "outputId": "9000311e-91af-48e8-aaa9-c5e02cc4750c",
        "colab": {
          "resources": {
            "http://localhost:8080/nbextensions/google.colab/files.js": {
              "data": "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",
              "ok": true,
              "headers": [
                [
                  "content-type",
                  "application/javascript"
                ]
              ],
              "status": 200,
              "status_text": ""
            }
          },
          "base_uri": "https://localhost:8080/",
          "height": 174
        }
      },
      "source": [
        "from google.colab import files\n",
        "uploaded = files.upload()"
      ],
      "execution_count": 5,
      "outputs": [
        {
          "output_type": "display_data",
          "data": {
            "text/html": [
              "\n",
              "     <input type=\"file\" id=\"files-0342e6fe-2ad2-4b62-b7ff-c2ffdc01b129\" name=\"files[]\" multiple disabled\n",
              "        style=\"border:none\" />\n",
              "     <output id=\"result-0342e6fe-2ad2-4b62-b7ff-c2ffdc01b129\">\n",
              "      Upload widget is only available when the cell has been executed in the\n",
              "      current browser session. Please rerun this cell to enable.\n",
              "      </output>\n",
              "      <script src=\"/nbextensions/google.colab/files.js\"></script> "
            ],
            "text/plain": [
              "<IPython.core.display.HTML object>"
            ]
          },
          "metadata": {
            "tags": []
          }
        },
        {
          "output_type": "stream",
          "text": [
            "Saving en_climate_daily_QC_7024745_2016_P1D.csv to en_climate_daily_QC_7024745_2016_P1D.csv\n",
            "Saving en_climate_daily_QC_7024745_2017_P1D.csv to en_climate_daily_QC_7024745_2017_P1D.csv\n",
            "Saving en_climate_daily_QC_7024745_2018_P1D.csv to en_climate_daily_QC_7024745_2018_P1D.csv\n",
            "Saving en_climate_daily_QC_7024745_2019_P1D.csv to en_climate_daily_QC_7024745_2019_P1D.csv\n"
          ],
          "name": "stdout"
        }
      ]
    },
    {
      "cell_type": "code",
      "metadata": {
        "id": "Evm3eONrl8BQ"
      },
      "source": [
        "weather_2016 = pd.read_csv(r\"en_climate_daily_QC_7024745_2016_P1D.csv\")\n",
        "weather_2017 = pd.read_csv(r\"en_climate_daily_QC_7024745_2017_P1D.csv\")\n",
        "weather_2018 = pd.read_csv(r\"en_climate_daily_QC_7024745_2018_P1D.csv\")\n",
        "weather_2019 = pd.read_csv(r\"en_climate_daily_QC_7024745_2019_P1D.csv\")"
      ],
      "execution_count": 6,
      "outputs": []
    },
    {
      "cell_type": "code",
      "metadata": {
        "id": "6UV3iaA3vYLD",
        "outputId": "9013c3c1-8a0b-4cfc-ed3a-ab045b03e36e",
        "colab": {
          "base_uri": "https://localhost:8080/",
          "height": 357
        }
      },
      "source": [
        "weather_2016.head()"
      ],
      "execution_count": 7,
      "outputs": [
        {
          "output_type": "execute_result",
          "data": {
            "text/html": [
              "<div>\n",
              "<style scoped>\n",
              "    .dataframe tbody tr th:only-of-type {\n",
              "        vertical-align: middle;\n",
              "    }\n",
              "\n",
              "    .dataframe tbody tr th {\n",
              "        vertical-align: top;\n",
              "    }\n",
              "\n",
              "    .dataframe thead th {\n",
              "        text-align: right;\n",
              "    }\n",
              "</style>\n",
              "<table border=\"1\" class=\"dataframe\">\n",
              "  <thead>\n",
              "    <tr style=\"text-align: right;\">\n",
              "      <th></th>\n",
              "      <th>Longitude (x)</th>\n",
              "      <th>Latitude (y)</th>\n",
              "      <th>Station Name</th>\n",
              "      <th>Climate ID</th>\n",
              "      <th>Date/Time</th>\n",
              "      <th>Year</th>\n",
              "      <th>Month</th>\n",
              "      <th>Day</th>\n",
              "      <th>Data Quality</th>\n",
              "      <th>Max Temp (°C)</th>\n",
              "      <th>Max Temp Flag</th>\n",
              "      <th>Min Temp (°C)</th>\n",
              "      <th>Min Temp Flag</th>\n",
              "      <th>Mean Temp (°C)</th>\n",
              "      <th>Mean Temp Flag</th>\n",
              "      <th>Heat Deg Days (°C)</th>\n",
              "      <th>Heat Deg Days Flag</th>\n",
              "      <th>Cool Deg Days (°C)</th>\n",
              "      <th>Cool Deg Days Flag</th>\n",
              "      <th>Total Rain (mm)</th>\n",
              "      <th>Total Rain Flag</th>\n",
              "      <th>Total Snow (cm)</th>\n",
              "      <th>Total Snow Flag</th>\n",
              "      <th>Total Precip (mm)</th>\n",
              "      <th>Total Precip Flag</th>\n",
              "      <th>Snow on Grnd (cm)</th>\n",
              "      <th>Snow on Grnd Flag</th>\n",
              "      <th>Dir of Max Gust (10s deg)</th>\n",
              "      <th>Dir of Max Gust Flag</th>\n",
              "      <th>Spd of Max Gust (km/h)</th>\n",
              "      <th>Spd of Max Gust Flag</th>\n",
              "    </tr>\n",
              "  </thead>\n",
              "  <tbody>\n",
              "    <tr>\n",
              "      <th>0</th>\n",
              "      <td>-73.58</td>\n",
              "      <td>45.5</td>\n",
              "      <td>MCTAVISH</td>\n",
              "      <td>7024745</td>\n",
              "      <td>2016-01-01</td>\n",
              "      <td>2016</td>\n",
              "      <td>1</td>\n",
              "      <td>1</td>\n",
              "      <td>NaN</td>\n",
              "      <td>-0.1</td>\n",
              "      <td>NaN</td>\n",
              "      <td>-3.6</td>\n",
              "      <td>NaN</td>\n",
              "      <td>-1.9</td>\n",
              "      <td>NaN</td>\n",
              "      <td>19.9</td>\n",
              "      <td>NaN</td>\n",
              "      <td>0.0</td>\n",
              "      <td>NaN</td>\n",
              "      <td>NaN</td>\n",
              "      <td>M</td>\n",
              "      <td>NaN</td>\n",
              "      <td>M</td>\n",
              "      <td>0.7</td>\n",
              "      <td>NaN</td>\n",
              "      <td>32.0</td>\n",
              "      <td>NaN</td>\n",
              "      <td>NaN</td>\n",
              "      <td>NaN</td>\n",
              "      <td>&lt;31</td>\n",
              "      <td>NaN</td>\n",
              "    </tr>\n",
              "    <tr>\n",
              "      <th>1</th>\n",
              "      <td>-73.58</td>\n",
              "      <td>45.5</td>\n",
              "      <td>MCTAVISH</td>\n",
              "      <td>7024745</td>\n",
              "      <td>2016-01-02</td>\n",
              "      <td>2016</td>\n",
              "      <td>1</td>\n",
              "      <td>2</td>\n",
              "      <td>NaN</td>\n",
              "      <td>0.4</td>\n",
              "      <td>NaN</td>\n",
              "      <td>-4.4</td>\n",
              "      <td>NaN</td>\n",
              "      <td>-2.0</td>\n",
              "      <td>NaN</td>\n",
              "      <td>20.0</td>\n",
              "      <td>NaN</td>\n",
              "      <td>0.0</td>\n",
              "      <td>NaN</td>\n",
              "      <td>NaN</td>\n",
              "      <td>M</td>\n",
              "      <td>NaN</td>\n",
              "      <td>M</td>\n",
              "      <td>1.2</td>\n",
              "      <td>NaN</td>\n",
              "      <td>30.0</td>\n",
              "      <td>NaN</td>\n",
              "      <td>21.0</td>\n",
              "      <td>NaN</td>\n",
              "      <td>32</td>\n",
              "      <td>NaN</td>\n",
              "    </tr>\n",
              "    <tr>\n",
              "      <th>2</th>\n",
              "      <td>-73.58</td>\n",
              "      <td>45.5</td>\n",
              "      <td>MCTAVISH</td>\n",
              "      <td>7024745</td>\n",
              "      <td>2016-01-03</td>\n",
              "      <td>2016</td>\n",
              "      <td>1</td>\n",
              "      <td>3</td>\n",
              "      <td>NaN</td>\n",
              "      <td>0.2</td>\n",
              "      <td>NaN</td>\n",
              "      <td>-14.8</td>\n",
              "      <td>NaN</td>\n",
              "      <td>-7.3</td>\n",
              "      <td>NaN</td>\n",
              "      <td>25.3</td>\n",
              "      <td>NaN</td>\n",
              "      <td>0.0</td>\n",
              "      <td>NaN</td>\n",
              "      <td>NaN</td>\n",
              "      <td>M</td>\n",
              "      <td>NaN</td>\n",
              "      <td>M</td>\n",
              "      <td>7.7</td>\n",
              "      <td>NaN</td>\n",
              "      <td>32.0</td>\n",
              "      <td>NaN</td>\n",
              "      <td>1.0</td>\n",
              "      <td>NaN</td>\n",
              "      <td>32</td>\n",
              "      <td>NaN</td>\n",
              "    </tr>\n",
              "    <tr>\n",
              "      <th>3</th>\n",
              "      <td>-73.58</td>\n",
              "      <td>45.5</td>\n",
              "      <td>MCTAVISH</td>\n",
              "      <td>7024745</td>\n",
              "      <td>2016-01-04</td>\n",
              "      <td>2016</td>\n",
              "      <td>1</td>\n",
              "      <td>4</td>\n",
              "      <td>NaN</td>\n",
              "      <td>-13.5</td>\n",
              "      <td>NaN</td>\n",
              "      <td>-18.5</td>\n",
              "      <td>NaN</td>\n",
              "      <td>-16.0</td>\n",
              "      <td>NaN</td>\n",
              "      <td>34.0</td>\n",
              "      <td>NaN</td>\n",
              "      <td>0.0</td>\n",
              "      <td>NaN</td>\n",
              "      <td>NaN</td>\n",
              "      <td>M</td>\n",
              "      <td>NaN</td>\n",
              "      <td>M</td>\n",
              "      <td>0.0</td>\n",
              "      <td>NaN</td>\n",
              "      <td>52.0</td>\n",
              "      <td>NaN</td>\n",
              "      <td>1.0</td>\n",
              "      <td>NaN</td>\n",
              "      <td>35</td>\n",
              "      <td>NaN</td>\n",
              "    </tr>\n",
              "    <tr>\n",
              "      <th>4</th>\n",
              "      <td>-73.58</td>\n",
              "      <td>45.5</td>\n",
              "      <td>MCTAVISH</td>\n",
              "      <td>7024745</td>\n",
              "      <td>2016-01-05</td>\n",
              "      <td>2016</td>\n",
              "      <td>1</td>\n",
              "      <td>5</td>\n",
              "      <td>NaN</td>\n",
              "      <td>-7.5</td>\n",
              "      <td>NaN</td>\n",
              "      <td>-19.0</td>\n",
              "      <td>NaN</td>\n",
              "      <td>-13.3</td>\n",
              "      <td>NaN</td>\n",
              "      <td>31.3</td>\n",
              "      <td>NaN</td>\n",
              "      <td>0.0</td>\n",
              "      <td>NaN</td>\n",
              "      <td>NaN</td>\n",
              "      <td>M</td>\n",
              "      <td>NaN</td>\n",
              "      <td>M</td>\n",
              "      <td>0.0</td>\n",
              "      <td>NaN</td>\n",
              "      <td>45.0</td>\n",
              "      <td>NaN</td>\n",
              "      <td>NaN</td>\n",
              "      <td>NaN</td>\n",
              "      <td>&lt;31</td>\n",
              "      <td>NaN</td>\n",
              "    </tr>\n",
              "  </tbody>\n",
              "</table>\n",
              "</div>"
            ],
            "text/plain": [
              "   Longitude (x)  Latitude (y)  ... Spd of Max Gust (km/h)  Spd of Max Gust Flag\n",
              "0         -73.58          45.5  ...                    <31                   NaN\n",
              "1         -73.58          45.5  ...                     32                   NaN\n",
              "2         -73.58          45.5  ...                     32                   NaN\n",
              "3         -73.58          45.5  ...                     35                   NaN\n",
              "4         -73.58          45.5  ...                    <31                   NaN\n",
              "\n",
              "[5 rows x 31 columns]"
            ]
          },
          "metadata": {
            "tags": []
          },
          "execution_count": 7
        }
      ]
    },
    {
      "cell_type": "code",
      "metadata": {
        "id": "BtdTCut6vYPZ",
        "outputId": "ed6cf850-0e41-45b1-95a6-a7c65a38c080",
        "colab": {
          "base_uri": "https://localhost:8080/",
          "height": 357
        }
      },
      "source": [
        "weather_2017.head()"
      ],
      "execution_count": 8,
      "outputs": [
        {
          "output_type": "execute_result",
          "data": {
            "text/html": [
              "<div>\n",
              "<style scoped>\n",
              "    .dataframe tbody tr th:only-of-type {\n",
              "        vertical-align: middle;\n",
              "    }\n",
              "\n",
              "    .dataframe tbody tr th {\n",
              "        vertical-align: top;\n",
              "    }\n",
              "\n",
              "    .dataframe thead th {\n",
              "        text-align: right;\n",
              "    }\n",
              "</style>\n",
              "<table border=\"1\" class=\"dataframe\">\n",
              "  <thead>\n",
              "    <tr style=\"text-align: right;\">\n",
              "      <th></th>\n",
              "      <th>Longitude (x)</th>\n",
              "      <th>Latitude (y)</th>\n",
              "      <th>Station Name</th>\n",
              "      <th>Climate ID</th>\n",
              "      <th>Date/Time</th>\n",
              "      <th>Year</th>\n",
              "      <th>Month</th>\n",
              "      <th>Day</th>\n",
              "      <th>Data Quality</th>\n",
              "      <th>Max Temp (°C)</th>\n",
              "      <th>Max Temp Flag</th>\n",
              "      <th>Min Temp (°C)</th>\n",
              "      <th>Min Temp Flag</th>\n",
              "      <th>Mean Temp (°C)</th>\n",
              "      <th>Mean Temp Flag</th>\n",
              "      <th>Heat Deg Days (°C)</th>\n",
              "      <th>Heat Deg Days Flag</th>\n",
              "      <th>Cool Deg Days (°C)</th>\n",
              "      <th>Cool Deg Days Flag</th>\n",
              "      <th>Total Rain (mm)</th>\n",
              "      <th>Total Rain Flag</th>\n",
              "      <th>Total Snow (cm)</th>\n",
              "      <th>Total Snow Flag</th>\n",
              "      <th>Total Precip (mm)</th>\n",
              "      <th>Total Precip Flag</th>\n",
              "      <th>Snow on Grnd (cm)</th>\n",
              "      <th>Snow on Grnd Flag</th>\n",
              "      <th>Dir of Max Gust (10s deg)</th>\n",
              "      <th>Dir of Max Gust Flag</th>\n",
              "      <th>Spd of Max Gust (km/h)</th>\n",
              "      <th>Spd of Max Gust Flag</th>\n",
              "    </tr>\n",
              "  </thead>\n",
              "  <tbody>\n",
              "    <tr>\n",
              "      <th>0</th>\n",
              "      <td>-73.58</td>\n",
              "      <td>45.5</td>\n",
              "      <td>MCTAVISH</td>\n",
              "      <td>7024745</td>\n",
              "      <td>2017-01-01</td>\n",
              "      <td>2017</td>\n",
              "      <td>1</td>\n",
              "      <td>1</td>\n",
              "      <td>NaN</td>\n",
              "      <td>0.3</td>\n",
              "      <td>NaN</td>\n",
              "      <td>-4.2</td>\n",
              "      <td>NaN</td>\n",
              "      <td>-2.0</td>\n",
              "      <td>NaN</td>\n",
              "      <td>20.0</td>\n",
              "      <td>NaN</td>\n",
              "      <td>0.0</td>\n",
              "      <td>NaN</td>\n",
              "      <td>NaN</td>\n",
              "      <td>M</td>\n",
              "      <td>NaN</td>\n",
              "      <td>M</td>\n",
              "      <td>1.7</td>\n",
              "      <td>NaN</td>\n",
              "      <td>36.0</td>\n",
              "      <td>NaN</td>\n",
              "      <td>23.0</td>\n",
              "      <td>NaN</td>\n",
              "      <td>32</td>\n",
              "      <td>NaN</td>\n",
              "    </tr>\n",
              "    <tr>\n",
              "      <th>1</th>\n",
              "      <td>-73.58</td>\n",
              "      <td>45.5</td>\n",
              "      <td>MCTAVISH</td>\n",
              "      <td>7024745</td>\n",
              "      <td>2017-01-02</td>\n",
              "      <td>2017</td>\n",
              "      <td>1</td>\n",
              "      <td>2</td>\n",
              "      <td>NaN</td>\n",
              "      <td>3.7</td>\n",
              "      <td>NaN</td>\n",
              "      <td>-5.3</td>\n",
              "      <td>NaN</td>\n",
              "      <td>-0.8</td>\n",
              "      <td>NaN</td>\n",
              "      <td>18.8</td>\n",
              "      <td>NaN</td>\n",
              "      <td>0.0</td>\n",
              "      <td>NaN</td>\n",
              "      <td>NaN</td>\n",
              "      <td>M</td>\n",
              "      <td>NaN</td>\n",
              "      <td>M</td>\n",
              "      <td>0.4</td>\n",
              "      <td>NaN</td>\n",
              "      <td>34.0</td>\n",
              "      <td>NaN</td>\n",
              "      <td>NaN</td>\n",
              "      <td>NaN</td>\n",
              "      <td>&lt;31</td>\n",
              "      <td>NaN</td>\n",
              "    </tr>\n",
              "    <tr>\n",
              "      <th>2</th>\n",
              "      <td>-73.58</td>\n",
              "      <td>45.5</td>\n",
              "      <td>MCTAVISH</td>\n",
              "      <td>7024745</td>\n",
              "      <td>2017-01-03</td>\n",
              "      <td>2017</td>\n",
              "      <td>1</td>\n",
              "      <td>3</td>\n",
              "      <td>NaN</td>\n",
              "      <td>0.6</td>\n",
              "      <td>NaN</td>\n",
              "      <td>-5.4</td>\n",
              "      <td>NaN</td>\n",
              "      <td>-2.4</td>\n",
              "      <td>NaN</td>\n",
              "      <td>20.4</td>\n",
              "      <td>NaN</td>\n",
              "      <td>0.0</td>\n",
              "      <td>NaN</td>\n",
              "      <td>NaN</td>\n",
              "      <td>M</td>\n",
              "      <td>NaN</td>\n",
              "      <td>M</td>\n",
              "      <td>10.3</td>\n",
              "      <td>NaN</td>\n",
              "      <td>32.0</td>\n",
              "      <td>NaN</td>\n",
              "      <td>NaN</td>\n",
              "      <td>NaN</td>\n",
              "      <td>&lt;31</td>\n",
              "      <td>NaN</td>\n",
              "    </tr>\n",
              "    <tr>\n",
              "      <th>3</th>\n",
              "      <td>-73.58</td>\n",
              "      <td>45.5</td>\n",
              "      <td>MCTAVISH</td>\n",
              "      <td>7024745</td>\n",
              "      <td>2017-01-04</td>\n",
              "      <td>2017</td>\n",
              "      <td>1</td>\n",
              "      <td>4</td>\n",
              "      <td>NaN</td>\n",
              "      <td>2.5</td>\n",
              "      <td>NaN</td>\n",
              "      <td>-4.8</td>\n",
              "      <td>NaN</td>\n",
              "      <td>-1.2</td>\n",
              "      <td>NaN</td>\n",
              "      <td>19.2</td>\n",
              "      <td>NaN</td>\n",
              "      <td>0.0</td>\n",
              "      <td>NaN</td>\n",
              "      <td>NaN</td>\n",
              "      <td>M</td>\n",
              "      <td>NaN</td>\n",
              "      <td>M</td>\n",
              "      <td>13.3</td>\n",
              "      <td>NaN</td>\n",
              "      <td>36.0</td>\n",
              "      <td>NaN</td>\n",
              "      <td>21.0</td>\n",
              "      <td>NaN</td>\n",
              "      <td>44</td>\n",
              "      <td>NaN</td>\n",
              "    </tr>\n",
              "    <tr>\n",
              "      <th>4</th>\n",
              "      <td>-73.58</td>\n",
              "      <td>45.5</td>\n",
              "      <td>MCTAVISH</td>\n",
              "      <td>7024745</td>\n",
              "      <td>2017-01-05</td>\n",
              "      <td>2017</td>\n",
              "      <td>1</td>\n",
              "      <td>5</td>\n",
              "      <td>NaN</td>\n",
              "      <td>-4.6</td>\n",
              "      <td>NaN</td>\n",
              "      <td>-10.6</td>\n",
              "      <td>NaN</td>\n",
              "      <td>-7.6</td>\n",
              "      <td>NaN</td>\n",
              "      <td>25.6</td>\n",
              "      <td>NaN</td>\n",
              "      <td>0.0</td>\n",
              "      <td>NaN</td>\n",
              "      <td>NaN</td>\n",
              "      <td>M</td>\n",
              "      <td>NaN</td>\n",
              "      <td>M</td>\n",
              "      <td>0.2</td>\n",
              "      <td>NaN</td>\n",
              "      <td>42.0</td>\n",
              "      <td>NaN</td>\n",
              "      <td>30.0</td>\n",
              "      <td>NaN</td>\n",
              "      <td>46</td>\n",
              "      <td>NaN</td>\n",
              "    </tr>\n",
              "  </tbody>\n",
              "</table>\n",
              "</div>"
            ],
            "text/plain": [
              "   Longitude (x)  Latitude (y)  ... Spd of Max Gust (km/h)  Spd of Max Gust Flag\n",
              "0         -73.58          45.5  ...                     32                   NaN\n",
              "1         -73.58          45.5  ...                    <31                   NaN\n",
              "2         -73.58          45.5  ...                    <31                   NaN\n",
              "3         -73.58          45.5  ...                     44                   NaN\n",
              "4         -73.58          45.5  ...                     46                   NaN\n",
              "\n",
              "[5 rows x 31 columns]"
            ]
          },
          "metadata": {
            "tags": []
          },
          "execution_count": 8
        }
      ]
    },
    {
      "cell_type": "code",
      "metadata": {
        "id": "40EN_1xivYSx"
      },
      "source": [
        "weather = weather_2016.append([weather_2017, weather_2018, weather_2019])"
      ],
      "execution_count": 9,
      "outputs": []
    },
    {
      "cell_type": "code",
      "metadata": {
        "id": "4SiqX21kvYVo",
        "outputId": "c9bfdd15-be22-46f4-aa3a-b6e34b1b86f6",
        "colab": {
          "base_uri": "https://localhost:8080/"
        }
      },
      "source": [
        "len(weather)"
      ],
      "execution_count": 10,
      "outputs": [
        {
          "output_type": "execute_result",
          "data": {
            "text/plain": [
              "1461"
            ]
          },
          "metadata": {
            "tags": []
          },
          "execution_count": 10
        }
      ]
    },
    {
      "cell_type": "code",
      "metadata": {
        "id": "ueQx9jCpwor7",
        "outputId": "decbe424-a762-4abc-ead9-6332d5c0c163",
        "colab": {
          "base_uri": "https://localhost:8080/"
        }
      },
      "source": [
        "len(weather_2016) + len(weather_2017) + len(weather_2018) + len(weather_2019)"
      ],
      "execution_count": 11,
      "outputs": [
        {
          "output_type": "execute_result",
          "data": {
            "text/plain": [
              "1461"
            ]
          },
          "metadata": {
            "tags": []
          },
          "execution_count": 11
        }
      ]
    },
    {
      "cell_type": "code",
      "metadata": {
        "id": "5_3WNTn8wozo"
      },
      "source": [
        "weather['Date'] = pd.to_datetime(weather['Date/Time']).dt.date"
      ],
      "execution_count": 12,
      "outputs": []
    },
    {
      "cell_type": "markdown",
      "metadata": {
        "id": "HoNsqxPwxjbh"
      },
      "source": [
        "# JOIN COMPLAINTS AND WEATHER"
      ]
    },
    {
      "cell_type": "code",
      "metadata": {
        "id": "oHgDVQ8jxhg7",
        "outputId": "ecc80c2c-edc8-4bc3-fc5a-dc527439e135",
        "colab": {
          "base_uri": "https://localhost:8080/",
          "height": 411
        }
      },
      "source": [
        "complaints.head()"
      ],
      "execution_count": 13,
      "outputs": [
        {
          "output_type": "execute_result",
          "data": {
            "text/html": [
              "<div>\n",
              "<style scoped>\n",
              "    .dataframe tbody tr th:only-of-type {\n",
              "        vertical-align: middle;\n",
              "    }\n",
              "\n",
              "    .dataframe tbody tr th {\n",
              "        vertical-align: top;\n",
              "    }\n",
              "\n",
              "    .dataframe thead th {\n",
              "        text-align: right;\n",
              "    }\n",
              "</style>\n",
              "<table border=\"1\" class=\"dataframe\">\n",
              "  <thead>\n",
              "    <tr style=\"text-align: right;\">\n",
              "      <th></th>\n",
              "      <th>ID_UNIQUE</th>\n",
              "      <th>NATURE</th>\n",
              "      <th>ACTI_NOM</th>\n",
              "      <th>TYPE_LIEU_INTERV</th>\n",
              "      <th>RUE</th>\n",
              "      <th>RUE_INTERSECTION1</th>\n",
              "      <th>RUE_INTERSECTION2</th>\n",
              "      <th>LOC_ERREUR_GDT</th>\n",
              "      <th>ARRONDISSEMENT</th>\n",
              "      <th>ARRONDISSEMENT_GEO</th>\n",
              "      <th>LIN_CODE_POSTAL</th>\n",
              "      <th>DDS_DATE_CREATION</th>\n",
              "      <th>PROVENANCE_ORIGINALE</th>\n",
              "      <th>PROVENANCE_TELEPHONE</th>\n",
              "      <th>PROVENANCE_COURRIEL</th>\n",
              "      <th>PROVENANCE_PERSONNE</th>\n",
              "      <th>PROVENANCE_COURRIER</th>\n",
              "      <th>PROVENANCE_TELECOPIEUR</th>\n",
              "      <th>PROVENANCE_INSTANCE</th>\n",
              "      <th>PROVENANCE_MOBILE</th>\n",
              "      <th>PROVENANCE_MEDIASOCIAUX</th>\n",
              "      <th>PROVENANCE_SITEINTERNET</th>\n",
              "      <th>UNITE_RESP_PARENT</th>\n",
              "      <th>LOC_LONG</th>\n",
              "      <th>LOC_LAT</th>\n",
              "      <th>LOC_X</th>\n",
              "      <th>LOC_Y</th>\n",
              "      <th>DERNIER_STATUT</th>\n",
              "      <th>DATE_DERNIER_STATUT</th>\n",
              "    </tr>\n",
              "  </thead>\n",
              "  <tbody>\n",
              "    <tr>\n",
              "      <th>1901626</th>\n",
              "      <td>17-70303</td>\n",
              "      <td>Plainte</td>\n",
              "      <td>Direction - Affaires pénales et criminelles</td>\n",
              "      <td>Adresse</td>\n",
              "      <td>NaN</td>\n",
              "      <td>NaN</td>\n",
              "      <td>NaN</td>\n",
              "      <td>1.0</td>\n",
              "      <td>Ville de Montréal</td>\n",
              "      <td>NaN</td>\n",
              "      <td>NaN</td>\n",
              "      <td>2017-03-07T14:37:01</td>\n",
              "      <td>Téléphone</td>\n",
              "      <td>1</td>\n",
              "      <td>0</td>\n",
              "      <td>0</td>\n",
              "      <td>0</td>\n",
              "      <td>0</td>\n",
              "      <td>0</td>\n",
              "      <td>0</td>\n",
              "      <td>0</td>\n",
              "      <td>0</td>\n",
              "      <td>DIRECTION DES AFFAIRES PENALES ET CRIMINELLES</td>\n",
              "      <td>NaN</td>\n",
              "      <td>NaN</td>\n",
              "      <td>NaN</td>\n",
              "      <td>NaN</td>\n",
              "      <td>Refusée</td>\n",
              "      <td>2017-03-08T10:14:58</td>\n",
              "    </tr>\n",
              "    <tr>\n",
              "      <th>1901646</th>\n",
              "      <td>18-165551</td>\n",
              "      <td>Plainte</td>\n",
              "      <td>Cour municipale</td>\n",
              "      <td>Adresse</td>\n",
              "      <td>boulevard Saint-Jean</td>\n",
              "      <td>NaN</td>\n",
              "      <td>NaN</td>\n",
              "      <td>NaN</td>\n",
              "      <td>Pointe-Claire</td>\n",
              "      <td>NaN</td>\n",
              "      <td>H9R3J2</td>\n",
              "      <td>2018-05-31T16:46:36</td>\n",
              "      <td>Téléphone</td>\n",
              "      <td>1</td>\n",
              "      <td>0</td>\n",
              "      <td>0</td>\n",
              "      <td>0</td>\n",
              "      <td>0</td>\n",
              "      <td>0</td>\n",
              "      <td>0</td>\n",
              "      <td>0</td>\n",
              "      <td>0</td>\n",
              "      <td>SERVICE DES AFFAIRES JURIDIQUES</td>\n",
              "      <td>NaN</td>\n",
              "      <td>NaN</td>\n",
              "      <td>NaN</td>\n",
              "      <td>NaN</td>\n",
              "      <td>Terminée</td>\n",
              "      <td>2018-06-15T15:34:44</td>\n",
              "    </tr>\n",
              "    <tr>\n",
              "      <th>1901662</th>\n",
              "      <td>18-273642</td>\n",
              "      <td>Plainte</td>\n",
              "      <td>Centre de services 311</td>\n",
              "      <td>Adresse</td>\n",
              "      <td>NaN</td>\n",
              "      <td>NaN</td>\n",
              "      <td>NaN</td>\n",
              "      <td>NaN</td>\n",
              "      <td>Ville de Montréal</td>\n",
              "      <td>NaN</td>\n",
              "      <td>NaN</td>\n",
              "      <td>2018-08-25T10:12:08</td>\n",
              "      <td>Téléphone</td>\n",
              "      <td>1</td>\n",
              "      <td>0</td>\n",
              "      <td>0</td>\n",
              "      <td>0</td>\n",
              "      <td>0</td>\n",
              "      <td>0</td>\n",
              "      <td>0</td>\n",
              "      <td>0</td>\n",
              "      <td>0</td>\n",
              "      <td>DIRECTION GÉNÉRALE</td>\n",
              "      <td>NaN</td>\n",
              "      <td>NaN</td>\n",
              "      <td>NaN</td>\n",
              "      <td>NaN</td>\n",
              "      <td>Terminée</td>\n",
              "      <td>2018-08-26T15:36:51</td>\n",
              "    </tr>\n",
              "    <tr>\n",
              "      <th>1901665</th>\n",
              "      <td>18-298856</td>\n",
              "      <td>Plainte</td>\n",
              "      <td>Centre de services 311</td>\n",
              "      <td>Adresse</td>\n",
              "      <td>NaN</td>\n",
              "      <td>NaN</td>\n",
              "      <td>NaN</td>\n",
              "      <td>NaN</td>\n",
              "      <td>Ville de Montréal</td>\n",
              "      <td>NaN</td>\n",
              "      <td>NaN</td>\n",
              "      <td>2018-09-15T14:47:29</td>\n",
              "      <td>Téléphone</td>\n",
              "      <td>1</td>\n",
              "      <td>0</td>\n",
              "      <td>0</td>\n",
              "      <td>0</td>\n",
              "      <td>0</td>\n",
              "      <td>0</td>\n",
              "      <td>0</td>\n",
              "      <td>0</td>\n",
              "      <td>0</td>\n",
              "      <td>DIRECTION GÉNÉRALE</td>\n",
              "      <td>NaN</td>\n",
              "      <td>NaN</td>\n",
              "      <td>NaN</td>\n",
              "      <td>NaN</td>\n",
              "      <td>Terminée</td>\n",
              "      <td>2018-09-16T11:09:10</td>\n",
              "    </tr>\n",
              "    <tr>\n",
              "      <th>1901682</th>\n",
              "      <td>18-394456</td>\n",
              "      <td>Plainte</td>\n",
              "      <td>Cour municipale</td>\n",
              "      <td>Adresse</td>\n",
              "      <td>NaN</td>\n",
              "      <td>NaN</td>\n",
              "      <td>NaN</td>\n",
              "      <td>NaN</td>\n",
              "      <td>Ville de Montréal</td>\n",
              "      <td>NaN</td>\n",
              "      <td>NaN</td>\n",
              "      <td>2018-12-20T11:02:06</td>\n",
              "      <td>Téléphone</td>\n",
              "      <td>1</td>\n",
              "      <td>0</td>\n",
              "      <td>0</td>\n",
              "      <td>0</td>\n",
              "      <td>0</td>\n",
              "      <td>0</td>\n",
              "      <td>0</td>\n",
              "      <td>0</td>\n",
              "      <td>0</td>\n",
              "      <td>SERVICE DES AFFAIRES JURIDIQUES</td>\n",
              "      <td>NaN</td>\n",
              "      <td>NaN</td>\n",
              "      <td>NaN</td>\n",
              "      <td>NaN</td>\n",
              "      <td>Refusée</td>\n",
              "      <td>2019-01-03T07:28:59</td>\n",
              "    </tr>\n",
              "  </tbody>\n",
              "</table>\n",
              "</div>"
            ],
            "text/plain": [
              "         ID_UNIQUE   NATURE  ... DERNIER_STATUT  DATE_DERNIER_STATUT\n",
              "1901626   17-70303  Plainte  ...        Refusée  2017-03-08T10:14:58\n",
              "1901646  18-165551  Plainte  ...       Terminée  2018-06-15T15:34:44\n",
              "1901662  18-273642  Plainte  ...       Terminée  2018-08-26T15:36:51\n",
              "1901665  18-298856  Plainte  ...       Terminée  2018-09-16T11:09:10\n",
              "1901682  18-394456  Plainte  ...        Refusée  2019-01-03T07:28:59\n",
              "\n",
              "[5 rows x 29 columns]"
            ]
          },
          "metadata": {
            "tags": []
          },
          "execution_count": 13
        }
      ]
    },
    {
      "cell_type": "code",
      "metadata": {
        "id": "csJNnagbxhjU"
      },
      "source": [
        "complaints['Date'] = pd.to_datetime(complaints['DDS_DATE_CREATION']).dt.date"
      ],
      "execution_count": 14,
      "outputs": []
    },
    {
      "cell_type": "code",
      "metadata": {
        "id": "bnTAVk5Txhlo"
      },
      "source": [
        "complaints = complaints.loc[complaints['Date'] < pd.to_datetime('2020-1-1').date()]"
      ],
      "execution_count": 15,
      "outputs": []
    },
    {
      "cell_type": "code",
      "metadata": {
        "id": "CRGzDYwmxhoB",
        "outputId": "2f647179-2275-4274-d3c9-d9eaf1bb2d3c",
        "colab": {
          "base_uri": "https://localhost:8080/"
        }
      },
      "source": [
        "df = complaints.merge(weather, on='Date')\n",
        "df.shape"
      ],
      "execution_count": 16,
      "outputs": [
        {
          "output_type": "execute_result",
          "data": {
            "text/plain": [
              "(22096, 61)"
            ]
          },
          "metadata": {
            "tags": []
          },
          "execution_count": 16
        }
      ]
    },
    {
      "cell_type": "code",
      "metadata": {
        "id": "R7ff-oZIzJCv",
        "outputId": "fe28620f-a2bd-4621-c491-7cf65fc30bf9",
        "colab": {
          "base_uri": "https://localhost:8080/"
        }
      },
      "source": [
        "complaints.shape, weather.shape"
      ],
      "execution_count": 17,
      "outputs": [
        {
          "output_type": "execute_result",
          "data": {
            "text/plain": [
              "((22096, 30), (1461, 32))"
            ]
          },
          "metadata": {
            "tags": []
          },
          "execution_count": 17
        }
      ]
    },
    {
      "cell_type": "code",
      "metadata": {
        "id": "FVGxcW7NMu8b",
        "outputId": "54ab35f7-6788-4583-f406-e64baed35556",
        "colab": {
          "base_uri": "https://localhost:8080/",
          "height": 479
        }
      },
      "source": [
        "df.head()"
      ],
      "execution_count": 18,
      "outputs": [
        {
          "output_type": "execute_result",
          "data": {
            "text/html": [
              "<div>\n",
              "<style scoped>\n",
              "    .dataframe tbody tr th:only-of-type {\n",
              "        vertical-align: middle;\n",
              "    }\n",
              "\n",
              "    .dataframe tbody tr th {\n",
              "        vertical-align: top;\n",
              "    }\n",
              "\n",
              "    .dataframe thead th {\n",
              "        text-align: right;\n",
              "    }\n",
              "</style>\n",
              "<table border=\"1\" class=\"dataframe\">\n",
              "  <thead>\n",
              "    <tr style=\"text-align: right;\">\n",
              "      <th></th>\n",
              "      <th>ID_UNIQUE</th>\n",
              "      <th>NATURE</th>\n",
              "      <th>ACTI_NOM</th>\n",
              "      <th>TYPE_LIEU_INTERV</th>\n",
              "      <th>RUE</th>\n",
              "      <th>RUE_INTERSECTION1</th>\n",
              "      <th>RUE_INTERSECTION2</th>\n",
              "      <th>LOC_ERREUR_GDT</th>\n",
              "      <th>ARRONDISSEMENT</th>\n",
              "      <th>ARRONDISSEMENT_GEO</th>\n",
              "      <th>LIN_CODE_POSTAL</th>\n",
              "      <th>DDS_DATE_CREATION</th>\n",
              "      <th>PROVENANCE_ORIGINALE</th>\n",
              "      <th>PROVENANCE_TELEPHONE</th>\n",
              "      <th>PROVENANCE_COURRIEL</th>\n",
              "      <th>PROVENANCE_PERSONNE</th>\n",
              "      <th>PROVENANCE_COURRIER</th>\n",
              "      <th>PROVENANCE_TELECOPIEUR</th>\n",
              "      <th>PROVENANCE_INSTANCE</th>\n",
              "      <th>PROVENANCE_MOBILE</th>\n",
              "      <th>PROVENANCE_MEDIASOCIAUX</th>\n",
              "      <th>PROVENANCE_SITEINTERNET</th>\n",
              "      <th>UNITE_RESP_PARENT</th>\n",
              "      <th>LOC_LONG</th>\n",
              "      <th>LOC_LAT</th>\n",
              "      <th>LOC_X</th>\n",
              "      <th>LOC_Y</th>\n",
              "      <th>DERNIER_STATUT</th>\n",
              "      <th>DATE_DERNIER_STATUT</th>\n",
              "      <th>Date</th>\n",
              "      <th>Longitude (x)</th>\n",
              "      <th>Latitude (y)</th>\n",
              "      <th>Station Name</th>\n",
              "      <th>Climate ID</th>\n",
              "      <th>Date/Time</th>\n",
              "      <th>Year</th>\n",
              "      <th>Month</th>\n",
              "      <th>Day</th>\n",
              "      <th>Data Quality</th>\n",
              "      <th>Max Temp (°C)</th>\n",
              "      <th>Max Temp Flag</th>\n",
              "      <th>Min Temp (°C)</th>\n",
              "      <th>Min Temp Flag</th>\n",
              "      <th>Mean Temp (°C)</th>\n",
              "      <th>Mean Temp Flag</th>\n",
              "      <th>Heat Deg Days (°C)</th>\n",
              "      <th>Heat Deg Days Flag</th>\n",
              "      <th>Cool Deg Days (°C)</th>\n",
              "      <th>Cool Deg Days Flag</th>\n",
              "      <th>Total Rain (mm)</th>\n",
              "      <th>Total Rain Flag</th>\n",
              "      <th>Total Snow (cm)</th>\n",
              "      <th>Total Snow Flag</th>\n",
              "      <th>Total Precip (mm)</th>\n",
              "      <th>Total Precip Flag</th>\n",
              "      <th>Snow on Grnd (cm)</th>\n",
              "      <th>Snow on Grnd Flag</th>\n",
              "      <th>Dir of Max Gust (10s deg)</th>\n",
              "      <th>Dir of Max Gust Flag</th>\n",
              "      <th>Spd of Max Gust (km/h)</th>\n",
              "      <th>Spd of Max Gust Flag</th>\n",
              "    </tr>\n",
              "  </thead>\n",
              "  <tbody>\n",
              "    <tr>\n",
              "      <th>0</th>\n",
              "      <td>17-70303</td>\n",
              "      <td>Plainte</td>\n",
              "      <td>Direction - Affaires pénales et criminelles</td>\n",
              "      <td>Adresse</td>\n",
              "      <td>NaN</td>\n",
              "      <td>NaN</td>\n",
              "      <td>NaN</td>\n",
              "      <td>1.0</td>\n",
              "      <td>Ville de Montréal</td>\n",
              "      <td>NaN</td>\n",
              "      <td>NaN</td>\n",
              "      <td>2017-03-07T14:37:01</td>\n",
              "      <td>Téléphone</td>\n",
              "      <td>1</td>\n",
              "      <td>0</td>\n",
              "      <td>0</td>\n",
              "      <td>0</td>\n",
              "      <td>0</td>\n",
              "      <td>0</td>\n",
              "      <td>0</td>\n",
              "      <td>0</td>\n",
              "      <td>0</td>\n",
              "      <td>DIRECTION DES AFFAIRES PENALES ET CRIMINELLES</td>\n",
              "      <td>NaN</td>\n",
              "      <td>NaN</td>\n",
              "      <td>NaN</td>\n",
              "      <td>NaN</td>\n",
              "      <td>Refusée</td>\n",
              "      <td>2017-03-08T10:14:58</td>\n",
              "      <td>2017-03-07</td>\n",
              "      <td>-73.58</td>\n",
              "      <td>45.5</td>\n",
              "      <td>MCTAVISH</td>\n",
              "      <td>7024745</td>\n",
              "      <td>2017-03-07</td>\n",
              "      <td>2017</td>\n",
              "      <td>3</td>\n",
              "      <td>7</td>\n",
              "      <td>NaN</td>\n",
              "      <td>6.2</td>\n",
              "      <td>NaN</td>\n",
              "      <td>-2.5</td>\n",
              "      <td>NaN</td>\n",
              "      <td>1.9</td>\n",
              "      <td>NaN</td>\n",
              "      <td>16.1</td>\n",
              "      <td>NaN</td>\n",
              "      <td>0.0</td>\n",
              "      <td>NaN</td>\n",
              "      <td>NaN</td>\n",
              "      <td>M</td>\n",
              "      <td>NaN</td>\n",
              "      <td>M</td>\n",
              "      <td>11.4</td>\n",
              "      <td>NaN</td>\n",
              "      <td>40.0</td>\n",
              "      <td>NaN</td>\n",
              "      <td>NaN</td>\n",
              "      <td>NaN</td>\n",
              "      <td>&lt;31</td>\n",
              "      <td>NaN</td>\n",
              "    </tr>\n",
              "    <tr>\n",
              "      <th>1</th>\n",
              "      <td>17-70529</td>\n",
              "      <td>Plainte</td>\n",
              "      <td>Dépôt illégal - Déchets</td>\n",
              "      <td>Adresse</td>\n",
              "      <td>rue Saint-Antoine</td>\n",
              "      <td>NaN</td>\n",
              "      <td>NaN</td>\n",
              "      <td>0.0</td>\n",
              "      <td>Le Sud-Ouest</td>\n",
              "      <td>Le Sud-Ouest</td>\n",
              "      <td>H3J1A3</td>\n",
              "      <td>2017-03-07T16:46:03</td>\n",
              "      <td>Téléphone</td>\n",
              "      <td>2</td>\n",
              "      <td>0</td>\n",
              "      <td>0</td>\n",
              "      <td>0</td>\n",
              "      <td>0</td>\n",
              "      <td>0</td>\n",
              "      <td>0</td>\n",
              "      <td>0</td>\n",
              "      <td>0</td>\n",
              "      <td>SUD-OUEST</td>\n",
              "      <td>-73.573757</td>\n",
              "      <td>45.491353</td>\n",
              "      <td>299035.012767</td>\n",
              "      <td>5.039050e+06</td>\n",
              "      <td>Terminée</td>\n",
              "      <td>2017-05-17T11:43:42</td>\n",
              "      <td>2017-03-07</td>\n",
              "      <td>-73.58</td>\n",
              "      <td>45.5</td>\n",
              "      <td>MCTAVISH</td>\n",
              "      <td>7024745</td>\n",
              "      <td>2017-03-07</td>\n",
              "      <td>2017</td>\n",
              "      <td>3</td>\n",
              "      <td>7</td>\n",
              "      <td>NaN</td>\n",
              "      <td>6.2</td>\n",
              "      <td>NaN</td>\n",
              "      <td>-2.5</td>\n",
              "      <td>NaN</td>\n",
              "      <td>1.9</td>\n",
              "      <td>NaN</td>\n",
              "      <td>16.1</td>\n",
              "      <td>NaN</td>\n",
              "      <td>0.0</td>\n",
              "      <td>NaN</td>\n",
              "      <td>NaN</td>\n",
              "      <td>M</td>\n",
              "      <td>NaN</td>\n",
              "      <td>M</td>\n",
              "      <td>11.4</td>\n",
              "      <td>NaN</td>\n",
              "      <td>40.0</td>\n",
              "      <td>NaN</td>\n",
              "      <td>NaN</td>\n",
              "      <td>NaN</td>\n",
              "      <td>&lt;31</td>\n",
              "      <td>NaN</td>\n",
              "    </tr>\n",
              "    <tr>\n",
              "      <th>2</th>\n",
              "      <td>17-70519</td>\n",
              "      <td>Plainte</td>\n",
              "      <td>Nettoyage du domaine public</td>\n",
              "      <td>Adresse</td>\n",
              "      <td>NaN</td>\n",
              "      <td>NaN</td>\n",
              "      <td>NaN</td>\n",
              "      <td>1.0</td>\n",
              "      <td>Ville-Marie</td>\n",
              "      <td>Ville-Marie</td>\n",
              "      <td>NaN</td>\n",
              "      <td>2017-03-07T16:34:21</td>\n",
              "      <td>Téléphone</td>\n",
              "      <td>1</td>\n",
              "      <td>0</td>\n",
              "      <td>0</td>\n",
              "      <td>0</td>\n",
              "      <td>0</td>\n",
              "      <td>0</td>\n",
              "      <td>0</td>\n",
              "      <td>0</td>\n",
              "      <td>0</td>\n",
              "      <td>VILLE-MARIE</td>\n",
              "      <td>-73.558829</td>\n",
              "      <td>45.516697</td>\n",
              "      <td>300203.891868</td>\n",
              "      <td>5.041866e+06</td>\n",
              "      <td>Terminée</td>\n",
              "      <td>2017-06-06T14:55:14</td>\n",
              "      <td>2017-03-07</td>\n",
              "      <td>-73.58</td>\n",
              "      <td>45.5</td>\n",
              "      <td>MCTAVISH</td>\n",
              "      <td>7024745</td>\n",
              "      <td>2017-03-07</td>\n",
              "      <td>2017</td>\n",
              "      <td>3</td>\n",
              "      <td>7</td>\n",
              "      <td>NaN</td>\n",
              "      <td>6.2</td>\n",
              "      <td>NaN</td>\n",
              "      <td>-2.5</td>\n",
              "      <td>NaN</td>\n",
              "      <td>1.9</td>\n",
              "      <td>NaN</td>\n",
              "      <td>16.1</td>\n",
              "      <td>NaN</td>\n",
              "      <td>0.0</td>\n",
              "      <td>NaN</td>\n",
              "      <td>NaN</td>\n",
              "      <td>M</td>\n",
              "      <td>NaN</td>\n",
              "      <td>M</td>\n",
              "      <td>11.4</td>\n",
              "      <td>NaN</td>\n",
              "      <td>40.0</td>\n",
              "      <td>NaN</td>\n",
              "      <td>NaN</td>\n",
              "      <td>NaN</td>\n",
              "      <td>&lt;31</td>\n",
              "      <td>NaN</td>\n",
              "    </tr>\n",
              "    <tr>\n",
              "      <th>3</th>\n",
              "      <td>17-70468</td>\n",
              "      <td>Plainte</td>\n",
              "      <td>Collecte de résidus alimentaires</td>\n",
              "      <td>Adresse</td>\n",
              "      <td>avenue Charlemagne</td>\n",
              "      <td>NaN</td>\n",
              "      <td>NaN</td>\n",
              "      <td>0.0</td>\n",
              "      <td>Rosemont - La Petite-Patrie</td>\n",
              "      <td>Rosemont-La Petite-Patrie</td>\n",
              "      <td>H1X2H3</td>\n",
              "      <td>2017-03-07T15:57:41</td>\n",
              "      <td>Courriel</td>\n",
              "      <td>0</td>\n",
              "      <td>1</td>\n",
              "      <td>0</td>\n",
              "      <td>0</td>\n",
              "      <td>0</td>\n",
              "      <td>0</td>\n",
              "      <td>0</td>\n",
              "      <td>0</td>\n",
              "      <td>0</td>\n",
              "      <td>ROSEMONT - LA PETITE-PATRIE</td>\n",
              "      <td>-73.559544</td>\n",
              "      <td>45.554939</td>\n",
              "      <td>300151.136340</td>\n",
              "      <td>5.046116e+06</td>\n",
              "      <td>Terminée</td>\n",
              "      <td>2017-03-09T15:37:17</td>\n",
              "      <td>2017-03-07</td>\n",
              "      <td>-73.58</td>\n",
              "      <td>45.5</td>\n",
              "      <td>MCTAVISH</td>\n",
              "      <td>7024745</td>\n",
              "      <td>2017-03-07</td>\n",
              "      <td>2017</td>\n",
              "      <td>3</td>\n",
              "      <td>7</td>\n",
              "      <td>NaN</td>\n",
              "      <td>6.2</td>\n",
              "      <td>NaN</td>\n",
              "      <td>-2.5</td>\n",
              "      <td>NaN</td>\n",
              "      <td>1.9</td>\n",
              "      <td>NaN</td>\n",
              "      <td>16.1</td>\n",
              "      <td>NaN</td>\n",
              "      <td>0.0</td>\n",
              "      <td>NaN</td>\n",
              "      <td>NaN</td>\n",
              "      <td>M</td>\n",
              "      <td>NaN</td>\n",
              "      <td>M</td>\n",
              "      <td>11.4</td>\n",
              "      <td>NaN</td>\n",
              "      <td>40.0</td>\n",
              "      <td>NaN</td>\n",
              "      <td>NaN</td>\n",
              "      <td>NaN</td>\n",
              "      <td>&lt;31</td>\n",
              "      <td>NaN</td>\n",
              "    </tr>\n",
              "    <tr>\n",
              "      <th>4</th>\n",
              "      <td>17-70335</td>\n",
              "      <td>Plainte</td>\n",
              "      <td>Trottoir glissant</td>\n",
              "      <td>Adresse</td>\n",
              "      <td>avenue Monty</td>\n",
              "      <td>NaN</td>\n",
              "      <td>NaN</td>\n",
              "      <td>0.0</td>\n",
              "      <td>Montréal-Nord</td>\n",
              "      <td>Montréal-Nord</td>\n",
              "      <td>H1G3N8</td>\n",
              "      <td>2017-03-07T14:50:35</td>\n",
              "      <td>Courriel</td>\n",
              "      <td>0</td>\n",
              "      <td>1</td>\n",
              "      <td>0</td>\n",
              "      <td>0</td>\n",
              "      <td>0</td>\n",
              "      <td>0</td>\n",
              "      <td>0</td>\n",
              "      <td>0</td>\n",
              "      <td>0</td>\n",
              "      <td>MONTREAL-NORD</td>\n",
              "      <td>-73.616362</td>\n",
              "      <td>45.616868</td>\n",
              "      <td>295725.114883</td>\n",
              "      <td>5.053003e+06</td>\n",
              "      <td>Terminée</td>\n",
              "      <td>2017-03-07T14:55:07</td>\n",
              "      <td>2017-03-07</td>\n",
              "      <td>-73.58</td>\n",
              "      <td>45.5</td>\n",
              "      <td>MCTAVISH</td>\n",
              "      <td>7024745</td>\n",
              "      <td>2017-03-07</td>\n",
              "      <td>2017</td>\n",
              "      <td>3</td>\n",
              "      <td>7</td>\n",
              "      <td>NaN</td>\n",
              "      <td>6.2</td>\n",
              "      <td>NaN</td>\n",
              "      <td>-2.5</td>\n",
              "      <td>NaN</td>\n",
              "      <td>1.9</td>\n",
              "      <td>NaN</td>\n",
              "      <td>16.1</td>\n",
              "      <td>NaN</td>\n",
              "      <td>0.0</td>\n",
              "      <td>NaN</td>\n",
              "      <td>NaN</td>\n",
              "      <td>M</td>\n",
              "      <td>NaN</td>\n",
              "      <td>M</td>\n",
              "      <td>11.4</td>\n",
              "      <td>NaN</td>\n",
              "      <td>40.0</td>\n",
              "      <td>NaN</td>\n",
              "      <td>NaN</td>\n",
              "      <td>NaN</td>\n",
              "      <td>&lt;31</td>\n",
              "      <td>NaN</td>\n",
              "    </tr>\n",
              "  </tbody>\n",
              "</table>\n",
              "</div>"
            ],
            "text/plain": [
              "  ID_UNIQUE   NATURE  ... Spd of Max Gust (km/h) Spd of Max Gust Flag\n",
              "0  17-70303  Plainte  ...                    <31                  NaN\n",
              "1  17-70529  Plainte  ...                    <31                  NaN\n",
              "2  17-70519  Plainte  ...                    <31                  NaN\n",
              "3  17-70468  Plainte  ...                    <31                  NaN\n",
              "4  17-70335  Plainte  ...                    <31                  NaN\n",
              "\n",
              "[5 rows x 61 columns]"
            ]
          },
          "metadata": {
            "tags": []
          },
          "execution_count": 18
        }
      ]
    },
    {
      "cell_type": "markdown",
      "metadata": {
        "id": "qaV7k50sM2zg"
      },
      "source": [
        "# EXPLORE OUR DATA"
      ]
    },
    {
      "cell_type": "code",
      "metadata": {
        "id": "7iuMgMwzNhCw",
        "outputId": "2654b2cc-2db0-4dc0-e02c-0d8ca398804b",
        "colab": {
          "base_uri": "https://localhost:8080/",
          "height": 351
        }
      },
      "source": [
        "df.describe()"
      ],
      "execution_count": 19,
      "outputs": [
        {
          "output_type": "execute_result",
          "data": {
            "text/html": [
              "<div>\n",
              "<style scoped>\n",
              "    .dataframe tbody tr th:only-of-type {\n",
              "        vertical-align: middle;\n",
              "    }\n",
              "\n",
              "    .dataframe tbody tr th {\n",
              "        vertical-align: top;\n",
              "    }\n",
              "\n",
              "    .dataframe thead th {\n",
              "        text-align: right;\n",
              "    }\n",
              "</style>\n",
              "<table border=\"1\" class=\"dataframe\">\n",
              "  <thead>\n",
              "    <tr style=\"text-align: right;\">\n",
              "      <th></th>\n",
              "      <th>LOC_ERREUR_GDT</th>\n",
              "      <th>PROVENANCE_TELEPHONE</th>\n",
              "      <th>PROVENANCE_COURRIEL</th>\n",
              "      <th>PROVENANCE_PERSONNE</th>\n",
              "      <th>PROVENANCE_COURRIER</th>\n",
              "      <th>PROVENANCE_TELECOPIEUR</th>\n",
              "      <th>PROVENANCE_INSTANCE</th>\n",
              "      <th>PROVENANCE_MOBILE</th>\n",
              "      <th>PROVENANCE_MEDIASOCIAUX</th>\n",
              "      <th>PROVENANCE_SITEINTERNET</th>\n",
              "      <th>LOC_LONG</th>\n",
              "      <th>LOC_LAT</th>\n",
              "      <th>LOC_X</th>\n",
              "      <th>LOC_Y</th>\n",
              "      <th>Longitude (x)</th>\n",
              "      <th>Latitude (y)</th>\n",
              "      <th>Climate ID</th>\n",
              "      <th>Year</th>\n",
              "      <th>Month</th>\n",
              "      <th>Day</th>\n",
              "      <th>Data Quality</th>\n",
              "      <th>Max Temp (°C)</th>\n",
              "      <th>Min Temp (°C)</th>\n",
              "      <th>Mean Temp (°C)</th>\n",
              "      <th>Heat Deg Days (°C)</th>\n",
              "      <th>Cool Deg Days (°C)</th>\n",
              "      <th>Total Rain (mm)</th>\n",
              "      <th>Total Snow (cm)</th>\n",
              "      <th>Total Precip (mm)</th>\n",
              "      <th>Snow on Grnd (cm)</th>\n",
              "      <th>Dir of Max Gust (10s deg)</th>\n",
              "    </tr>\n",
              "  </thead>\n",
              "  <tbody>\n",
              "    <tr>\n",
              "      <th>count</th>\n",
              "      <td>22076.000000</td>\n",
              "      <td>22096.000000</td>\n",
              "      <td>22096.000000</td>\n",
              "      <td>22096.000000</td>\n",
              "      <td>22096.000000</td>\n",
              "      <td>22096.000000</td>\n",
              "      <td>22096.000000</td>\n",
              "      <td>22096.000000</td>\n",
              "      <td>22096.000000</td>\n",
              "      <td>22096.000000</td>\n",
              "      <td>22075.000000</td>\n",
              "      <td>22075.000000</td>\n",
              "      <td>22075.000000</td>\n",
              "      <td>2.207500e+04</td>\n",
              "      <td>2.209600e+04</td>\n",
              "      <td>22096.0</td>\n",
              "      <td>22096.0</td>\n",
              "      <td>22096.000000</td>\n",
              "      <td>22096.000000</td>\n",
              "      <td>22096.000000</td>\n",
              "      <td>0.0</td>\n",
              "      <td>21512.000000</td>\n",
              "      <td>21960.000000</td>\n",
              "      <td>21512.000000</td>\n",
              "      <td>21512.000000</td>\n",
              "      <td>21512.000000</td>\n",
              "      <td>0.0</td>\n",
              "      <td>0.0</td>\n",
              "      <td>21345.000000</td>\n",
              "      <td>9581.000000</td>\n",
              "      <td>6215.000000</td>\n",
              "    </tr>\n",
              "    <tr>\n",
              "      <th>mean</th>\n",
              "      <td>0.037597</td>\n",
              "      <td>0.976557</td>\n",
              "      <td>0.080014</td>\n",
              "      <td>0.127534</td>\n",
              "      <td>0.001810</td>\n",
              "      <td>0.000045</td>\n",
              "      <td>0.000453</td>\n",
              "      <td>0.000045</td>\n",
              "      <td>0.000045</td>\n",
              "      <td>0.000045</td>\n",
              "      <td>-73.617962</td>\n",
              "      <td>45.532284</td>\n",
              "      <td>295584.347401</td>\n",
              "      <td>5.043606e+06</td>\n",
              "      <td>-7.358000e+01</td>\n",
              "      <td>45.5</td>\n",
              "      <td>7024745.0</td>\n",
              "      <td>2017.674013</td>\n",
              "      <td>6.062500</td>\n",
              "      <td>15.569696</td>\n",
              "      <td>NaN</td>\n",
              "      <td>11.472829</td>\n",
              "      <td>3.349695</td>\n",
              "      <td>7.364220</td>\n",
              "      <td>11.838848</td>\n",
              "      <td>1.203068</td>\n",
              "      <td>NaN</td>\n",
              "      <td>NaN</td>\n",
              "      <td>3.246648</td>\n",
              "      <td>47.838326</td>\n",
              "      <td>18.819469</td>\n",
              "    </tr>\n",
              "    <tr>\n",
              "      <th>std</th>\n",
              "      <td>0.190225</td>\n",
              "      <td>0.758742</td>\n",
              "      <td>0.320283</td>\n",
              "      <td>0.391850</td>\n",
              "      <td>0.045592</td>\n",
              "      <td>0.006727</td>\n",
              "      <td>0.023300</td>\n",
              "      <td>0.006727</td>\n",
              "      <td>0.006727</td>\n",
              "      <td>0.006727</td>\n",
              "      <td>0.080200</td>\n",
              "      <td>0.054332</td>\n",
              "      <td>6268.998186</td>\n",
              "      <td>6.033800e+03</td>\n",
              "      <td>1.465172e-11</td>\n",
              "      <td>0.0</td>\n",
              "      <td>0.0</td>\n",
              "      <td>1.093148</td>\n",
              "      <td>3.490346</td>\n",
              "      <td>8.438612</td>\n",
              "      <td>NaN</td>\n",
              "      <td>12.963620</td>\n",
              "      <td>12.079334</td>\n",
              "      <td>12.448411</td>\n",
              "      <td>10.995313</td>\n",
              "      <td>2.361952</td>\n",
              "      <td>NaN</td>\n",
              "      <td>NaN</td>\n",
              "      <td>7.362306</td>\n",
              "      <td>30.028964</td>\n",
              "      <td>11.729102</td>\n",
              "    </tr>\n",
              "    <tr>\n",
              "      <th>min</th>\n",
              "      <td>0.000000</td>\n",
              "      <td>0.000000</td>\n",
              "      <td>0.000000</td>\n",
              "      <td>0.000000</td>\n",
              "      <td>0.000000</td>\n",
              "      <td>0.000000</td>\n",
              "      <td>0.000000</td>\n",
              "      <td>0.000000</td>\n",
              "      <td>0.000000</td>\n",
              "      <td>0.000000</td>\n",
              "      <td>-73.940076</td>\n",
              "      <td>45.415286</td>\n",
              "      <td>270394.001965</td>\n",
              "      <td>5.030602e+06</td>\n",
              "      <td>-7.358000e+01</td>\n",
              "      <td>45.5</td>\n",
              "      <td>7024745.0</td>\n",
              "      <td>2016.000000</td>\n",
              "      <td>1.000000</td>\n",
              "      <td>1.000000</td>\n",
              "      <td>NaN</td>\n",
              "      <td>-20.500000</td>\n",
              "      <td>-25.600000</td>\n",
              "      <td>-23.100000</td>\n",
              "      <td>0.000000</td>\n",
              "      <td>0.000000</td>\n",
              "      <td>NaN</td>\n",
              "      <td>NaN</td>\n",
              "      <td>0.000000</td>\n",
              "      <td>0.000000</td>\n",
              "      <td>1.000000</td>\n",
              "    </tr>\n",
              "    <tr>\n",
              "      <th>25%</th>\n",
              "      <td>0.000000</td>\n",
              "      <td>1.000000</td>\n",
              "      <td>0.000000</td>\n",
              "      <td>0.000000</td>\n",
              "      <td>0.000000</td>\n",
              "      <td>0.000000</td>\n",
              "      <td>0.000000</td>\n",
              "      <td>0.000000</td>\n",
              "      <td>0.000000</td>\n",
              "      <td>0.000000</td>\n",
              "      <td>-73.639700</td>\n",
              "      <td>45.491529</td>\n",
              "      <td>293888.267743</td>\n",
              "      <td>5.039084e+06</td>\n",
              "      <td>-7.358000e+01</td>\n",
              "      <td>45.5</td>\n",
              "      <td>7024745.0</td>\n",
              "      <td>2017.000000</td>\n",
              "      <td>3.000000</td>\n",
              "      <td>9.000000</td>\n",
              "      <td>NaN</td>\n",
              "      <td>0.600000</td>\n",
              "      <td>-7.400000</td>\n",
              "      <td>-3.300000</td>\n",
              "      <td>0.000000</td>\n",
              "      <td>0.000000</td>\n",
              "      <td>NaN</td>\n",
              "      <td>NaN</td>\n",
              "      <td>0.000000</td>\n",
              "      <td>19.000000</td>\n",
              "      <td>4.000000</td>\n",
              "    </tr>\n",
              "    <tr>\n",
              "      <th>50%</th>\n",
              "      <td>0.000000</td>\n",
              "      <td>1.000000</td>\n",
              "      <td>0.000000</td>\n",
              "      <td>0.000000</td>\n",
              "      <td>0.000000</td>\n",
              "      <td>0.000000</td>\n",
              "      <td>0.000000</td>\n",
              "      <td>0.000000</td>\n",
              "      <td>0.000000</td>\n",
              "      <td>0.000000</td>\n",
              "      <td>-73.602600</td>\n",
              "      <td>45.531689</td>\n",
              "      <td>296780.334755</td>\n",
              "      <td>5.043543e+06</td>\n",
              "      <td>-7.358000e+01</td>\n",
              "      <td>45.5</td>\n",
              "      <td>7024745.0</td>\n",
              "      <td>2018.000000</td>\n",
              "      <td>6.000000</td>\n",
              "      <td>15.000000</td>\n",
              "      <td>NaN</td>\n",
              "      <td>11.000000</td>\n",
              "      <td>4.300000</td>\n",
              "      <td>7.800000</td>\n",
              "      <td>10.200000</td>\n",
              "      <td>0.000000</td>\n",
              "      <td>NaN</td>\n",
              "      <td>NaN</td>\n",
              "      <td>0.200000</td>\n",
              "      <td>53.000000</td>\n",
              "      <td>21.000000</td>\n",
              "    </tr>\n",
              "    <tr>\n",
              "      <th>75%</th>\n",
              "      <td>0.000000</td>\n",
              "      <td>1.000000</td>\n",
              "      <td>0.000000</td>\n",
              "      <td>0.000000</td>\n",
              "      <td>0.000000</td>\n",
              "      <td>0.000000</td>\n",
              "      <td>0.000000</td>\n",
              "      <td>0.000000</td>\n",
              "      <td>0.000000</td>\n",
              "      <td>0.000000</td>\n",
              "      <td>-73.569464</td>\n",
              "      <td>45.563146</td>\n",
              "      <td>299374.268421</td>\n",
              "      <td>5.047036e+06</td>\n",
              "      <td>-7.358000e+01</td>\n",
              "      <td>45.5</td>\n",
              "      <td>7024745.0</td>\n",
              "      <td>2019.000000</td>\n",
              "      <td>9.000000</td>\n",
              "      <td>23.000000</td>\n",
              "      <td>NaN</td>\n",
              "      <td>23.800000</td>\n",
              "      <td>14.200000</td>\n",
              "      <td>18.900000</td>\n",
              "      <td>21.300000</td>\n",
              "      <td>0.900000</td>\n",
              "      <td>NaN</td>\n",
              "      <td>NaN</td>\n",
              "      <td>2.800000</td>\n",
              "      <td>69.000000</td>\n",
              "      <td>27.000000</td>\n",
              "    </tr>\n",
              "    <tr>\n",
              "      <th>max</th>\n",
              "      <td>1.000000</td>\n",
              "      <td>23.000000</td>\n",
              "      <td>12.000000</td>\n",
              "      <td>7.000000</td>\n",
              "      <td>2.000000</td>\n",
              "      <td>1.000000</td>\n",
              "      <td>2.000000</td>\n",
              "      <td>1.000000</td>\n",
              "      <td>1.000000</td>\n",
              "      <td>1.000000</td>\n",
              "      <td>-73.480537</td>\n",
              "      <td>45.700637</td>\n",
              "      <td>306315.658943</td>\n",
              "      <td>5.062306e+06</td>\n",
              "      <td>-7.358000e+01</td>\n",
              "      <td>45.5</td>\n",
              "      <td>7024745.0</td>\n",
              "      <td>2019.000000</td>\n",
              "      <td>12.000000</td>\n",
              "      <td>31.000000</td>\n",
              "      <td>NaN</td>\n",
              "      <td>36.600000</td>\n",
              "      <td>25.000000</td>\n",
              "      <td>30.000000</td>\n",
              "      <td>41.100000</td>\n",
              "      <td>12.000000</td>\n",
              "      <td>NaN</td>\n",
              "      <td>NaN</td>\n",
              "      <td>77.800000</td>\n",
              "      <td>99.000000</td>\n",
              "      <td>36.000000</td>\n",
              "    </tr>\n",
              "  </tbody>\n",
              "</table>\n",
              "</div>"
            ],
            "text/plain": [
              "       LOC_ERREUR_GDT  ...  Dir of Max Gust (10s deg)\n",
              "count    22076.000000  ...                6215.000000\n",
              "mean         0.037597  ...                  18.819469\n",
              "std          0.190225  ...                  11.729102\n",
              "min          0.000000  ...                   1.000000\n",
              "25%          0.000000  ...                   4.000000\n",
              "50%          0.000000  ...                  21.000000\n",
              "75%          0.000000  ...                  27.000000\n",
              "max          1.000000  ...                  36.000000\n",
              "\n",
              "[8 rows x 31 columns]"
            ]
          },
          "metadata": {
            "tags": []
          },
          "execution_count": 19
        }
      ]
    },
    {
      "cell_type": "code",
      "metadata": {
        "id": "KQdXONtlNkjN",
        "outputId": "ee5c10a9-3021-4245-a5d7-47d118676d65",
        "colab": {
          "base_uri": "https://localhost:8080/"
        }
      },
      "source": [
        "df.info()"
      ],
      "execution_count": 20,
      "outputs": [
        {
          "output_type": "stream",
          "text": [
            "<class 'pandas.core.frame.DataFrame'>\n",
            "Int64Index: 22096 entries, 0 to 22095\n",
            "Data columns (total 61 columns):\n",
            " #   Column                     Non-Null Count  Dtype  \n",
            "---  ------                     --------------  -----  \n",
            " 0   ID_UNIQUE                  22096 non-null  object \n",
            " 1   NATURE                     22096 non-null  object \n",
            " 2   ACTI_NOM                   22096 non-null  object \n",
            " 3   TYPE_LIEU_INTERV           22096 non-null  object \n",
            " 4   RUE                        18967 non-null  object \n",
            " 5   RUE_INTERSECTION1          3726 non-null   object \n",
            " 6   RUE_INTERSECTION2          3726 non-null   object \n",
            " 7   LOC_ERREUR_GDT             22076 non-null  float64\n",
            " 8   ARRONDISSEMENT             22096 non-null  object \n",
            " 9   ARRONDISSEMENT_GEO         22075 non-null  object \n",
            " 10  LIN_CODE_POSTAL            16728 non-null  object \n",
            " 11  DDS_DATE_CREATION          22096 non-null  object \n",
            " 12  PROVENANCE_ORIGINALE       22096 non-null  object \n",
            " 13  PROVENANCE_TELEPHONE       22096 non-null  int64  \n",
            " 14  PROVENANCE_COURRIEL        22096 non-null  int64  \n",
            " 15  PROVENANCE_PERSONNE        22096 non-null  int64  \n",
            " 16  PROVENANCE_COURRIER        22096 non-null  int64  \n",
            " 17  PROVENANCE_TELECOPIEUR     22096 non-null  int64  \n",
            " 18  PROVENANCE_INSTANCE        22096 non-null  int64  \n",
            " 19  PROVENANCE_MOBILE          22096 non-null  int64  \n",
            " 20  PROVENANCE_MEDIASOCIAUX    22096 non-null  int64  \n",
            " 21  PROVENANCE_SITEINTERNET    22096 non-null  int64  \n",
            " 22  UNITE_RESP_PARENT          22096 non-null  object \n",
            " 23  LOC_LONG                   22075 non-null  float64\n",
            " 24  LOC_LAT                    22075 non-null  float64\n",
            " 25  LOC_X                      22075 non-null  float64\n",
            " 26  LOC_Y                      22075 non-null  float64\n",
            " 27  DERNIER_STATUT             22096 non-null  object \n",
            " 28  DATE_DERNIER_STATUT        22096 non-null  object \n",
            " 29  Date                       22096 non-null  object \n",
            " 30  Longitude (x)              22096 non-null  float64\n",
            " 31  Latitude (y)               22096 non-null  float64\n",
            " 32  Station Name               22096 non-null  object \n",
            " 33  Climate ID                 22096 non-null  int64  \n",
            " 34  Date/Time                  22096 non-null  object \n",
            " 35  Year                       22096 non-null  int64  \n",
            " 36  Month                      22096 non-null  int64  \n",
            " 37  Day                        22096 non-null  int64  \n",
            " 38  Data Quality               0 non-null      float64\n",
            " 39  Max Temp (°C)              21512 non-null  float64\n",
            " 40  Max Temp Flag              606 non-null    object \n",
            " 41  Min Temp (°C)              21960 non-null  float64\n",
            " 42  Min Temp Flag              606 non-null    object \n",
            " 43  Mean Temp (°C)             21512 non-null  float64\n",
            " 44  Mean Temp Flag             606 non-null    object \n",
            " 45  Heat Deg Days (°C)         21512 non-null  float64\n",
            " 46  Heat Deg Days Flag         606 non-null    object \n",
            " 47  Cool Deg Days (°C)         21512 non-null  float64\n",
            " 48  Cool Deg Days Flag         606 non-null    object \n",
            " 49  Total Rain (mm)            0 non-null      float64\n",
            " 50  Total Rain Flag            13124 non-null  object \n",
            " 51  Total Snow (cm)            0 non-null      float64\n",
            " 52  Total Snow Flag            13124 non-null  object \n",
            " 53  Total Precip (mm)          21345 non-null  float64\n",
            " 54  Total Precip Flag          759 non-null    object \n",
            " 55  Snow on Grnd (cm)          9581 non-null   float64\n",
            " 56  Snow on Grnd Flag          649 non-null    object \n",
            " 57  Dir of Max Gust (10s deg)  6215 non-null   float64\n",
            " 58  Dir of Max Gust Flag       235 non-null    object \n",
            " 59  Spd of Max Gust (km/h)     15450 non-null  object \n",
            " 60  Spd of Max Gust Flag       235 non-null    object \n",
            "dtypes: float64(18), int64(13), object(30)\n",
            "memory usage: 10.5+ MB\n"
          ],
          "name": "stdout"
        }
      ]
    },
    {
      "cell_type": "markdown",
      "metadata": {
        "id": "-MDlnmnbctvJ"
      },
      "source": [
        "# CALCULATE NUMBER OF COMPLAINTS PER DAY"
      ]
    },
    {
      "cell_type": "code",
      "metadata": {
        "id": "R8F2yCB3M5Hk"
      },
      "source": [
        "call_counts = df.groupby('Date')[['ID_UNIQUE']].count()"
      ],
      "execution_count": 21,
      "outputs": []
    },
    {
      "cell_type": "code",
      "metadata": {
        "id": "fSym1hGxN326",
        "outputId": "8dae33d8-fd5f-46d6-8aa5-acae396707ea",
        "colab": {
          "base_uri": "https://localhost:8080/",
          "height": 235
        }
      },
      "source": [
        "call_counts.head()"
      ],
      "execution_count": 22,
      "outputs": [
        {
          "output_type": "execute_result",
          "data": {
            "text/html": [
              "<div>\n",
              "<style scoped>\n",
              "    .dataframe tbody tr th:only-of-type {\n",
              "        vertical-align: middle;\n",
              "    }\n",
              "\n",
              "    .dataframe tbody tr th {\n",
              "        vertical-align: top;\n",
              "    }\n",
              "\n",
              "    .dataframe thead th {\n",
              "        text-align: right;\n",
              "    }\n",
              "</style>\n",
              "<table border=\"1\" class=\"dataframe\">\n",
              "  <thead>\n",
              "    <tr style=\"text-align: right;\">\n",
              "      <th></th>\n",
              "      <th>ID_UNIQUE</th>\n",
              "    </tr>\n",
              "    <tr>\n",
              "      <th>Date</th>\n",
              "      <th></th>\n",
              "    </tr>\n",
              "  </thead>\n",
              "  <tbody>\n",
              "    <tr>\n",
              "      <th>2016-01-01</th>\n",
              "      <td>3</td>\n",
              "    </tr>\n",
              "    <tr>\n",
              "      <th>2016-01-02</th>\n",
              "      <td>8</td>\n",
              "    </tr>\n",
              "    <tr>\n",
              "      <th>2016-01-03</th>\n",
              "      <td>10</td>\n",
              "    </tr>\n",
              "    <tr>\n",
              "      <th>2016-01-04</th>\n",
              "      <td>21</td>\n",
              "    </tr>\n",
              "    <tr>\n",
              "      <th>2016-01-05</th>\n",
              "      <td>33</td>\n",
              "    </tr>\n",
              "  </tbody>\n",
              "</table>\n",
              "</div>"
            ],
            "text/plain": [
              "            ID_UNIQUE\n",
              "Date                 \n",
              "2016-01-01          3\n",
              "2016-01-02          8\n",
              "2016-01-03         10\n",
              "2016-01-04         21\n",
              "2016-01-05         33"
            ]
          },
          "metadata": {
            "tags": []
          },
          "execution_count": 22
        }
      ]
    },
    {
      "cell_type": "markdown",
      "metadata": {
        "id": "1GU6X6blc4Cp"
      },
      "source": [
        "# JOIN DAILY CALL COUNTS WITH WEATHER"
      ]
    },
    {
      "cell_type": "code",
      "metadata": {
        "id": "-Q4guuWMOV9W"
      },
      "source": [
        "weather = weather.set_index(['Date'])"
      ],
      "execution_count": 23,
      "outputs": []
    },
    {
      "cell_type": "code",
      "metadata": {
        "id": "KxaWpk_YOec3"
      },
      "source": [
        "calls_and_weather = call_counts.join(weather)"
      ],
      "execution_count": 24,
      "outputs": []
    },
    {
      "cell_type": "code",
      "metadata": {
        "id": "sYh3AH52OqH-",
        "outputId": "eb9c30ae-ac8d-43e5-cc8f-614afb76940b",
        "colab": {
          "base_uri": "https://localhost:8080/",
          "height": 425
        }
      },
      "source": [
        "calls_and_weather.head()"
      ],
      "execution_count": 25,
      "outputs": [
        {
          "output_type": "execute_result",
          "data": {
            "text/html": [
              "<div>\n",
              "<style scoped>\n",
              "    .dataframe tbody tr th:only-of-type {\n",
              "        vertical-align: middle;\n",
              "    }\n",
              "\n",
              "    .dataframe tbody tr th {\n",
              "        vertical-align: top;\n",
              "    }\n",
              "\n",
              "    .dataframe thead th {\n",
              "        text-align: right;\n",
              "    }\n",
              "</style>\n",
              "<table border=\"1\" class=\"dataframe\">\n",
              "  <thead>\n",
              "    <tr style=\"text-align: right;\">\n",
              "      <th></th>\n",
              "      <th>ID_UNIQUE</th>\n",
              "      <th>Longitude (x)</th>\n",
              "      <th>Latitude (y)</th>\n",
              "      <th>Station Name</th>\n",
              "      <th>Climate ID</th>\n",
              "      <th>Date/Time</th>\n",
              "      <th>Year</th>\n",
              "      <th>Month</th>\n",
              "      <th>Day</th>\n",
              "      <th>Data Quality</th>\n",
              "      <th>Max Temp (°C)</th>\n",
              "      <th>Max Temp Flag</th>\n",
              "      <th>Min Temp (°C)</th>\n",
              "      <th>Min Temp Flag</th>\n",
              "      <th>Mean Temp (°C)</th>\n",
              "      <th>Mean Temp Flag</th>\n",
              "      <th>Heat Deg Days (°C)</th>\n",
              "      <th>Heat Deg Days Flag</th>\n",
              "      <th>Cool Deg Days (°C)</th>\n",
              "      <th>Cool Deg Days Flag</th>\n",
              "      <th>Total Rain (mm)</th>\n",
              "      <th>Total Rain Flag</th>\n",
              "      <th>Total Snow (cm)</th>\n",
              "      <th>Total Snow Flag</th>\n",
              "      <th>Total Precip (mm)</th>\n",
              "      <th>Total Precip Flag</th>\n",
              "      <th>Snow on Grnd (cm)</th>\n",
              "      <th>Snow on Grnd Flag</th>\n",
              "      <th>Dir of Max Gust (10s deg)</th>\n",
              "      <th>Dir of Max Gust Flag</th>\n",
              "      <th>Spd of Max Gust (km/h)</th>\n",
              "      <th>Spd of Max Gust Flag</th>\n",
              "    </tr>\n",
              "    <tr>\n",
              "      <th>Date</th>\n",
              "      <th></th>\n",
              "      <th></th>\n",
              "      <th></th>\n",
              "      <th></th>\n",
              "      <th></th>\n",
              "      <th></th>\n",
              "      <th></th>\n",
              "      <th></th>\n",
              "      <th></th>\n",
              "      <th></th>\n",
              "      <th></th>\n",
              "      <th></th>\n",
              "      <th></th>\n",
              "      <th></th>\n",
              "      <th></th>\n",
              "      <th></th>\n",
              "      <th></th>\n",
              "      <th></th>\n",
              "      <th></th>\n",
              "      <th></th>\n",
              "      <th></th>\n",
              "      <th></th>\n",
              "      <th></th>\n",
              "      <th></th>\n",
              "      <th></th>\n",
              "      <th></th>\n",
              "      <th></th>\n",
              "      <th></th>\n",
              "      <th></th>\n",
              "      <th></th>\n",
              "      <th></th>\n",
              "      <th></th>\n",
              "    </tr>\n",
              "  </thead>\n",
              "  <tbody>\n",
              "    <tr>\n",
              "      <th>2016-01-01</th>\n",
              "      <td>3</td>\n",
              "      <td>-73.58</td>\n",
              "      <td>45.5</td>\n",
              "      <td>MCTAVISH</td>\n",
              "      <td>7024745</td>\n",
              "      <td>2016-01-01</td>\n",
              "      <td>2016</td>\n",
              "      <td>1</td>\n",
              "      <td>1</td>\n",
              "      <td>NaN</td>\n",
              "      <td>-0.1</td>\n",
              "      <td>NaN</td>\n",
              "      <td>-3.6</td>\n",
              "      <td>NaN</td>\n",
              "      <td>-1.9</td>\n",
              "      <td>NaN</td>\n",
              "      <td>19.9</td>\n",
              "      <td>NaN</td>\n",
              "      <td>0.0</td>\n",
              "      <td>NaN</td>\n",
              "      <td>NaN</td>\n",
              "      <td>M</td>\n",
              "      <td>NaN</td>\n",
              "      <td>M</td>\n",
              "      <td>0.7</td>\n",
              "      <td>NaN</td>\n",
              "      <td>32.0</td>\n",
              "      <td>NaN</td>\n",
              "      <td>NaN</td>\n",
              "      <td>NaN</td>\n",
              "      <td>&lt;31</td>\n",
              "      <td>NaN</td>\n",
              "    </tr>\n",
              "    <tr>\n",
              "      <th>2016-01-02</th>\n",
              "      <td>8</td>\n",
              "      <td>-73.58</td>\n",
              "      <td>45.5</td>\n",
              "      <td>MCTAVISH</td>\n",
              "      <td>7024745</td>\n",
              "      <td>2016-01-02</td>\n",
              "      <td>2016</td>\n",
              "      <td>1</td>\n",
              "      <td>2</td>\n",
              "      <td>NaN</td>\n",
              "      <td>0.4</td>\n",
              "      <td>NaN</td>\n",
              "      <td>-4.4</td>\n",
              "      <td>NaN</td>\n",
              "      <td>-2.0</td>\n",
              "      <td>NaN</td>\n",
              "      <td>20.0</td>\n",
              "      <td>NaN</td>\n",
              "      <td>0.0</td>\n",
              "      <td>NaN</td>\n",
              "      <td>NaN</td>\n",
              "      <td>M</td>\n",
              "      <td>NaN</td>\n",
              "      <td>M</td>\n",
              "      <td>1.2</td>\n",
              "      <td>NaN</td>\n",
              "      <td>30.0</td>\n",
              "      <td>NaN</td>\n",
              "      <td>21.0</td>\n",
              "      <td>NaN</td>\n",
              "      <td>32</td>\n",
              "      <td>NaN</td>\n",
              "    </tr>\n",
              "    <tr>\n",
              "      <th>2016-01-03</th>\n",
              "      <td>10</td>\n",
              "      <td>-73.58</td>\n",
              "      <td>45.5</td>\n",
              "      <td>MCTAVISH</td>\n",
              "      <td>7024745</td>\n",
              "      <td>2016-01-03</td>\n",
              "      <td>2016</td>\n",
              "      <td>1</td>\n",
              "      <td>3</td>\n",
              "      <td>NaN</td>\n",
              "      <td>0.2</td>\n",
              "      <td>NaN</td>\n",
              "      <td>-14.8</td>\n",
              "      <td>NaN</td>\n",
              "      <td>-7.3</td>\n",
              "      <td>NaN</td>\n",
              "      <td>25.3</td>\n",
              "      <td>NaN</td>\n",
              "      <td>0.0</td>\n",
              "      <td>NaN</td>\n",
              "      <td>NaN</td>\n",
              "      <td>M</td>\n",
              "      <td>NaN</td>\n",
              "      <td>M</td>\n",
              "      <td>7.7</td>\n",
              "      <td>NaN</td>\n",
              "      <td>32.0</td>\n",
              "      <td>NaN</td>\n",
              "      <td>1.0</td>\n",
              "      <td>NaN</td>\n",
              "      <td>32</td>\n",
              "      <td>NaN</td>\n",
              "    </tr>\n",
              "    <tr>\n",
              "      <th>2016-01-04</th>\n",
              "      <td>21</td>\n",
              "      <td>-73.58</td>\n",
              "      <td>45.5</td>\n",
              "      <td>MCTAVISH</td>\n",
              "      <td>7024745</td>\n",
              "      <td>2016-01-04</td>\n",
              "      <td>2016</td>\n",
              "      <td>1</td>\n",
              "      <td>4</td>\n",
              "      <td>NaN</td>\n",
              "      <td>-13.5</td>\n",
              "      <td>NaN</td>\n",
              "      <td>-18.5</td>\n",
              "      <td>NaN</td>\n",
              "      <td>-16.0</td>\n",
              "      <td>NaN</td>\n",
              "      <td>34.0</td>\n",
              "      <td>NaN</td>\n",
              "      <td>0.0</td>\n",
              "      <td>NaN</td>\n",
              "      <td>NaN</td>\n",
              "      <td>M</td>\n",
              "      <td>NaN</td>\n",
              "      <td>M</td>\n",
              "      <td>0.0</td>\n",
              "      <td>NaN</td>\n",
              "      <td>52.0</td>\n",
              "      <td>NaN</td>\n",
              "      <td>1.0</td>\n",
              "      <td>NaN</td>\n",
              "      <td>35</td>\n",
              "      <td>NaN</td>\n",
              "    </tr>\n",
              "    <tr>\n",
              "      <th>2016-01-05</th>\n",
              "      <td>33</td>\n",
              "      <td>-73.58</td>\n",
              "      <td>45.5</td>\n",
              "      <td>MCTAVISH</td>\n",
              "      <td>7024745</td>\n",
              "      <td>2016-01-05</td>\n",
              "      <td>2016</td>\n",
              "      <td>1</td>\n",
              "      <td>5</td>\n",
              "      <td>NaN</td>\n",
              "      <td>-7.5</td>\n",
              "      <td>NaN</td>\n",
              "      <td>-19.0</td>\n",
              "      <td>NaN</td>\n",
              "      <td>-13.3</td>\n",
              "      <td>NaN</td>\n",
              "      <td>31.3</td>\n",
              "      <td>NaN</td>\n",
              "      <td>0.0</td>\n",
              "      <td>NaN</td>\n",
              "      <td>NaN</td>\n",
              "      <td>M</td>\n",
              "      <td>NaN</td>\n",
              "      <td>M</td>\n",
              "      <td>0.0</td>\n",
              "      <td>NaN</td>\n",
              "      <td>45.0</td>\n",
              "      <td>NaN</td>\n",
              "      <td>NaN</td>\n",
              "      <td>NaN</td>\n",
              "      <td>&lt;31</td>\n",
              "      <td>NaN</td>\n",
              "    </tr>\n",
              "  </tbody>\n",
              "</table>\n",
              "</div>"
            ],
            "text/plain": [
              "            ID_UNIQUE  ...  Spd of Max Gust Flag\n",
              "Date                   ...                      \n",
              "2016-01-01          3  ...                   NaN\n",
              "2016-01-02          8  ...                   NaN\n",
              "2016-01-03         10  ...                   NaN\n",
              "2016-01-04         21  ...                   NaN\n",
              "2016-01-05         33  ...                   NaN\n",
              "\n",
              "[5 rows x 32 columns]"
            ]
          },
          "metadata": {
            "tags": []
          },
          "execution_count": 25
        }
      ]
    },
    {
      "cell_type": "code",
      "metadata": {
        "id": "I071KBdYOl20",
        "outputId": "e2a571df-87f6-45bc-8a74-1c95fb0c6227",
        "colab": {
          "base_uri": "https://localhost:8080/",
          "height": 296
        }
      },
      "source": [
        "calls_and_weather[['ID_UNIQUE', 'Total Precip (mm)']].plot()"
      ],
      "execution_count": 26,
      "outputs": [
        {
          "output_type": "execute_result",
          "data": {
            "text/plain": [
              "<matplotlib.axes._subplots.AxesSubplot at 0x7f03e0342828>"
            ]
          },
          "metadata": {
            "tags": []
          },
          "execution_count": 26
        },
        {
          "output_type": "display_data",
          "data": {
            "image/png": "[encoded data removed]",
            "text/plain": [
              "<Figure size 432x288 with 1 Axes>"
            ]
          },
          "metadata": {
            "tags": [],
            "needs_background": "light"
          }
        }
      ]
    },
    {
      "cell_type": "markdown",
      "metadata": {
        "id": "wUpkQbgic-Jv"
      },
      "source": [
        "# INVESTIGATE CORRELATIONS"
      ]
    },
    {
      "cell_type": "code",
      "metadata": {
        "id": "BS9dDq56PR_s",
        "outputId": "c913e667-8b24-4140-86b7-9d8dfe00b54b",
        "colab": {
          "base_uri": "https://localhost:8080/",
          "height": 173
        }
      },
      "source": [
        "calls_and_weather[['ID_UNIQUE', 'Total Precip (mm)', 'Mean Temp (°C)', 'Month']].corr()"
      ],
      "execution_count": 27,
      "outputs": [
        {
          "output_type": "execute_result",
          "data": {
            "text/html": [
              "<div>\n",
              "<style scoped>\n",
              "    .dataframe tbody tr th:only-of-type {\n",
              "        vertical-align: middle;\n",
              "    }\n",
              "\n",
              "    .dataframe tbody tr th {\n",
              "        vertical-align: top;\n",
              "    }\n",
              "\n",
              "    .dataframe thead th {\n",
              "        text-align: right;\n",
              "    }\n",
              "</style>\n",
              "<table border=\"1\" class=\"dataframe\">\n",
              "  <thead>\n",
              "    <tr style=\"text-align: right;\">\n",
              "      <th></th>\n",
              "      <th>ID_UNIQUE</th>\n",
              "      <th>Total Precip (mm)</th>\n",
              "      <th>Mean Temp (°C)</th>\n",
              "      <th>Month</th>\n",
              "    </tr>\n",
              "  </thead>\n",
              "  <tbody>\n",
              "    <tr>\n",
              "      <th>ID_UNIQUE</th>\n",
              "      <td>1.000000</td>\n",
              "      <td>-0.000743</td>\n",
              "      <td>-0.053919</td>\n",
              "      <td>-0.159005</td>\n",
              "    </tr>\n",
              "    <tr>\n",
              "      <th>Total Precip (mm)</th>\n",
              "      <td>-0.000743</td>\n",
              "      <td>1.000000</td>\n",
              "      <td>-0.000810</td>\n",
              "      <td>0.002009</td>\n",
              "    </tr>\n",
              "    <tr>\n",
              "      <th>Mean Temp (°C)</th>\n",
              "      <td>-0.053919</td>\n",
              "      <td>-0.000810</td>\n",
              "      <td>1.000000</td>\n",
              "      <td>0.254251</td>\n",
              "    </tr>\n",
              "    <tr>\n",
              "      <th>Month</th>\n",
              "      <td>-0.159005</td>\n",
              "      <td>0.002009</td>\n",
              "      <td>0.254251</td>\n",
              "      <td>1.000000</td>\n",
              "    </tr>\n",
              "  </tbody>\n",
              "</table>\n",
              "</div>"
            ],
            "text/plain": [
              "                   ID_UNIQUE  Total Precip (mm)  Mean Temp (°C)     Month\n",
              "ID_UNIQUE           1.000000          -0.000743       -0.053919 -0.159005\n",
              "Total Precip (mm)  -0.000743           1.000000       -0.000810  0.002009\n",
              "Mean Temp (°C)     -0.053919          -0.000810        1.000000  0.254251\n",
              "Month              -0.159005           0.002009        0.254251  1.000000"
            ]
          },
          "metadata": {
            "tags": []
          },
          "execution_count": 27
        }
      ]
    },
    {
      "cell_type": "code",
      "metadata": {
        "id": "cxq9i-eaQsw1"
      },
      "source": [
        "calls_and_weather.index = pd.to_datetime(calls_and_weather.index)"
      ],
      "execution_count": 28,
      "outputs": []
    },
    {
      "cell_type": "code",
      "metadata": {
        "id": "I6oEvsuyRyNG",
        "outputId": "be0fc742-b4f7-4956-c31b-9830423102d0",
        "colab": {
          "base_uri": "https://localhost:8080/",
          "height": 308
        }
      },
      "source": [
        "calls_and_weather.resample('M').count()['ID_UNIQUE'].plot()"
      ],
      "execution_count": 29,
      "outputs": [
        {
          "output_type": "execute_result",
          "data": {
            "text/plain": [
              "<matplotlib.axes._subplots.AxesSubplot at 0x7f03dfd84668>"
            ]
          },
          "metadata": {
            "tags": []
          },
          "execution_count": 29
        },
        {
          "output_type": "display_data",
          "data": {
            "image/png": "[encoded data removed]",
            "text/plain": [
              "<Figure size 432x288 with 1 Axes>"
            ]
          },
          "metadata": {
            "tags": [],
            "needs_background": "light"
          }
        }
      ]
    },
    {
      "cell_type": "markdown",
      "metadata": {
        "id": "nCYFUnQplTLf"
      },
      "source": [
        "# RESAMPLE COMPLAINTS TRENDS"
      ]
    },
    {
      "cell_type": "code",
      "metadata": {
        "id": "RjfaoalyJJM1"
      },
      "source": [
        "complaints['DATE_DERNIER_STATUT'] = pd.to_datetime(complaints['DATE_DERNIER_STATUT'])\n",
        "complaints = complaints.set_index(['DATE_DERNIER_STATUT'], drop=True)"
      ],
      "execution_count": 30,
      "outputs": []
    },
    {
      "cell_type": "code",
      "metadata": {
        "id": "BmRh0P4VTbHp"
      },
      "source": [
        "complaints_resampled = complaints[['PROVENANCE_COURRIEL',\n",
        " 'PROVENANCE_COURRIER',\n",
        " 'PROVENANCE_INSTANCE',\n",
        " 'PROVENANCE_MEDIASOCIAUX',\n",
        " 'PROVENANCE_MOBILE',\n",
        " 'PROVENANCE_ORIGINALE',\n",
        " 'PROVENANCE_PERSONNE',\n",
        " 'PROVENANCE_SITEINTERNET',\n",
        " 'PROVENANCE_TELECOPIEUR',\n",
        " 'PROVENANCE_TELEPHONE']].resample('M').sum()"
      ],
      "execution_count": 31,
      "outputs": []
    },
    {
      "cell_type": "code",
      "metadata": {
        "id": "vhrf-HQPTdsB",
        "outputId": "06bf4248-e853-487d-9a59-98374a027895",
        "colab": {
          "base_uri": "https://localhost:8080/",
          "height": 297
        }
      },
      "source": [
        "complaints_resampled.plot()"
      ],
      "execution_count": 32,
      "outputs": [
        {
          "output_type": "execute_result",
          "data": {
            "text/plain": [
              "<matplotlib.axes._subplots.AxesSubplot at 0x7f03dfc8a0f0>"
            ]
          },
          "metadata": {
            "tags": []
          },
          "execution_count": 32
        },
        {
          "output_type": "display_data",
          "data": {
            "image/png": "[encoded data removed]",
            "text/plain": [
              "<Figure size 432x288 with 1 Axes>"
            ]
          },
          "metadata": {
            "tags": [],
            "needs_background": "light"
          }
        }
      ]
    },
    {
      "cell_type": "code",
      "metadata": {
        "id": "Q5TlaFH3TgMW",
        "outputId": "b3c38742-e40d-44cb-f502-2d61a9e62357",
        "colab": {
          "base_uri": "https://localhost:8080/",
          "height": 297
        }
      },
      "source": [
        "complaints_resampled[['PROVENANCE_COURRIEL',\n",
        " 'PROVENANCE_COURRIER',\n",
        " 'PROVENANCE_INSTANCE',\n",
        " 'PROVENANCE_MEDIASOCIAUX',\n",
        " 'PROVENANCE_MOBILE',\n",
        " 'PROVENANCE_SITEINTERNET',\n",
        " 'PROVENANCE_TELECOPIEUR']].plot()"
      ],
      "execution_count": 33,
      "outputs": [
        {
          "output_type": "execute_result",
          "data": {
            "text/plain": [
              "<matplotlib.axes._subplots.AxesSubplot at 0x7f03dfbdfd30>"
            ]
          },
          "metadata": {
            "tags": []
          },
          "execution_count": 33
        },
        {
          "output_type": "display_data",
          "data": {
            "image/png": "[encoded data removed]",
            "text/plain": [
              "<Figure size 432x288 with 1 Axes>"
            ]
          },
          "metadata": {
            "tags": [],
            "needs_background": "light"
          }
        }
      ]
    },
    {
      "cell_type": "code",
      "metadata": {
        "id": "Wvh1UiPCTnHp",
        "outputId": "72221785-3e7d-47dd-9309-3ab01f7f099f",
        "colab": {
          "base_uri": "https://localhost:8080/",
          "height": 297
        }
      },
      "source": [
        "complaints_resampled[['PROVENANCE_MEDIASOCIAUX']].plot()"
      ],
      "execution_count": 34,
      "outputs": [
        {
          "output_type": "execute_result",
          "data": {
            "text/plain": [
              "<matplotlib.axes._subplots.AxesSubplot at 0x7f03dfbdfe48>"
            ]
          },
          "metadata": {
            "tags": []
          },
          "execution_count": 34
        },
        {
          "output_type": "display_data",
          "data": {
            "image/png": "[encoded data removed]",
            "text/plain": [
              "<Figure size 432x288 with 1 Axes>"
            ]
          },
          "metadata": {
            "tags": [],
            "needs_background": "light"
          }
        }
      ]
    },
    {
      "cell_type": "markdown",
      "metadata": {
        "id": "CFkjjEy-nGbH"
      },
      "source": [
        "# PERFORM A REGRESSION\n",
        "\n",
        "Let's predict how many complaints we will receive in a given day"
      ]
    },
    {
      "cell_type": "code",
      "metadata": {
        "id": "DpHYjuRCTtPP",
        "outputId": "fe215999-b3e4-4269-ce12-d51ecca7354c",
        "colab": {
          "base_uri": "https://localhost:8080/",
          "height": 425
        }
      },
      "source": [
        "calls_and_weather.head()"
      ],
      "execution_count": 35,
      "outputs": [
        {
          "output_type": "execute_result",
          "data": {
            "text/html": [
              "<div>\n",
              "<style scoped>\n",
              "    .dataframe tbody tr th:only-of-type {\n",
              "        vertical-align: middle;\n",
              "    }\n",
              "\n",
              "    .dataframe tbody tr th {\n",
              "        vertical-align: top;\n",
              "    }\n",
              "\n",
              "    .dataframe thead th {\n",
              "        text-align: right;\n",
              "    }\n",
              "</style>\n",
              "<table border=\"1\" class=\"dataframe\">\n",
              "  <thead>\n",
              "    <tr style=\"text-align: right;\">\n",
              "      <th></th>\n",
              "      <th>ID_UNIQUE</th>\n",
              "      <th>Longitude (x)</th>\n",
              "      <th>Latitude (y)</th>\n",
              "      <th>Station Name</th>\n",
              "      <th>Climate ID</th>\n",
              "      <th>Date/Time</th>\n",
              "      <th>Year</th>\n",
              "      <th>Month</th>\n",
              "      <th>Day</th>\n",
              "      <th>Data Quality</th>\n",
              "      <th>Max Temp (°C)</th>\n",
              "      <th>Max Temp Flag</th>\n",
              "      <th>Min Temp (°C)</th>\n",
              "      <th>Min Temp Flag</th>\n",
              "      <th>Mean Temp (°C)</th>\n",
              "      <th>Mean Temp Flag</th>\n",
              "      <th>Heat Deg Days (°C)</th>\n",
              "      <th>Heat Deg Days Flag</th>\n",
              "      <th>Cool Deg Days (°C)</th>\n",
              "      <th>Cool Deg Days Flag</th>\n",
              "      <th>Total Rain (mm)</th>\n",
              "      <th>Total Rain Flag</th>\n",
              "      <th>Total Snow (cm)</th>\n",
              "      <th>Total Snow Flag</th>\n",
              "      <th>Total Precip (mm)</th>\n",
              "      <th>Total Precip Flag</th>\n",
              "      <th>Snow on Grnd (cm)</th>\n",
              "      <th>Snow on Grnd Flag</th>\n",
              "      <th>Dir of Max Gust (10s deg)</th>\n",
              "      <th>Dir of Max Gust Flag</th>\n",
              "      <th>Spd of Max Gust (km/h)</th>\n",
              "      <th>Spd of Max Gust Flag</th>\n",
              "    </tr>\n",
              "    <tr>\n",
              "      <th>Date</th>\n",
              "      <th></th>\n",
              "      <th></th>\n",
              "      <th></th>\n",
              "      <th></th>\n",
              "      <th></th>\n",
              "      <th></th>\n",
              "      <th></th>\n",
              "      <th></th>\n",
              "      <th></th>\n",
              "      <th></th>\n",
              "      <th></th>\n",
              "      <th></th>\n",
              "      <th></th>\n",
              "      <th></th>\n",
              "      <th></th>\n",
              "      <th></th>\n",
              "      <th></th>\n",
              "      <th></th>\n",
              "      <th></th>\n",
              "      <th></th>\n",
              "      <th></th>\n",
              "      <th></th>\n",
              "      <th></th>\n",
              "      <th></th>\n",
              "      <th></th>\n",
              "      <th></th>\n",
              "      <th></th>\n",
              "      <th></th>\n",
              "      <th></th>\n",
              "      <th></th>\n",
              "      <th></th>\n",
              "      <th></th>\n",
              "    </tr>\n",
              "  </thead>\n",
              "  <tbody>\n",
              "    <tr>\n",
              "      <th>2016-01-01</th>\n",
              "      <td>3</td>\n",
              "      <td>-73.58</td>\n",
              "      <td>45.5</td>\n",
              "      <td>MCTAVISH</td>\n",
              "      <td>7024745</td>\n",
              "      <td>2016-01-01</td>\n",
              "      <td>2016</td>\n",
              "      <td>1</td>\n",
              "      <td>1</td>\n",
              "      <td>NaN</td>\n",
              "      <td>-0.1</td>\n",
              "      <td>NaN</td>\n",
              "      <td>-3.6</td>\n",
              "      <td>NaN</td>\n",
              "      <td>-1.9</td>\n",
              "      <td>NaN</td>\n",
              "      <td>19.9</td>\n",
              "      <td>NaN</td>\n",
              "      <td>0.0</td>\n",
              "      <td>NaN</td>\n",
              "      <td>NaN</td>\n",
              "      <td>M</td>\n",
              "      <td>NaN</td>\n",
              "      <td>M</td>\n",
              "      <td>0.7</td>\n",
              "      <td>NaN</td>\n",
              "      <td>32.0</td>\n",
              "      <td>NaN</td>\n",
              "      <td>NaN</td>\n",
              "      <td>NaN</td>\n",
              "      <td>&lt;31</td>\n",
              "      <td>NaN</td>\n",
              "    </tr>\n",
              "    <tr>\n",
              "      <th>2016-01-02</th>\n",
              "      <td>8</td>\n",
              "      <td>-73.58</td>\n",
              "      <td>45.5</td>\n",
              "      <td>MCTAVISH</td>\n",
              "      <td>7024745</td>\n",
              "      <td>2016-01-02</td>\n",
              "      <td>2016</td>\n",
              "      <td>1</td>\n",
              "      <td>2</td>\n",
              "      <td>NaN</td>\n",
              "      <td>0.4</td>\n",
              "      <td>NaN</td>\n",
              "      <td>-4.4</td>\n",
              "      <td>NaN</td>\n",
              "      <td>-2.0</td>\n",
              "      <td>NaN</td>\n",
              "      <td>20.0</td>\n",
              "      <td>NaN</td>\n",
              "      <td>0.0</td>\n",
              "      <td>NaN</td>\n",
              "      <td>NaN</td>\n",
              "      <td>M</td>\n",
              "      <td>NaN</td>\n",
              "      <td>M</td>\n",
              "      <td>1.2</td>\n",
              "      <td>NaN</td>\n",
              "      <td>30.0</td>\n",
              "      <td>NaN</td>\n",
              "      <td>21.0</td>\n",
              "      <td>NaN</td>\n",
              "      <td>32</td>\n",
              "      <td>NaN</td>\n",
              "    </tr>\n",
              "    <tr>\n",
              "      <th>2016-01-03</th>\n",
              "      <td>10</td>\n",
              "      <td>-73.58</td>\n",
              "      <td>45.5</td>\n",
              "      <td>MCTAVISH</td>\n",
              "      <td>7024745</td>\n",
              "      <td>2016-01-03</td>\n",
              "      <td>2016</td>\n",
              "      <td>1</td>\n",
              "      <td>3</td>\n",
              "      <td>NaN</td>\n",
              "      <td>0.2</td>\n",
              "      <td>NaN</td>\n",
              "      <td>-14.8</td>\n",
              "      <td>NaN</td>\n",
              "      <td>-7.3</td>\n",
              "      <td>NaN</td>\n",
              "      <td>25.3</td>\n",
              "      <td>NaN</td>\n",
              "      <td>0.0</td>\n",
              "      <td>NaN</td>\n",
              "      <td>NaN</td>\n",
              "      <td>M</td>\n",
              "      <td>NaN</td>\n",
              "      <td>M</td>\n",
              "      <td>7.7</td>\n",
              "      <td>NaN</td>\n",
              "      <td>32.0</td>\n",
              "      <td>NaN</td>\n",
              "      <td>1.0</td>\n",
              "      <td>NaN</td>\n",
              "      <td>32</td>\n",
              "      <td>NaN</td>\n",
              "    </tr>\n",
              "    <tr>\n",
              "      <th>2016-01-04</th>\n",
              "      <td>21</td>\n",
              "      <td>-73.58</td>\n",
              "      <td>45.5</td>\n",
              "      <td>MCTAVISH</td>\n",
              "      <td>7024745</td>\n",
              "      <td>2016-01-04</td>\n",
              "      <td>2016</td>\n",
              "      <td>1</td>\n",
              "      <td>4</td>\n",
              "      <td>NaN</td>\n",
              "      <td>-13.5</td>\n",
              "      <td>NaN</td>\n",
              "      <td>-18.5</td>\n",
              "      <td>NaN</td>\n",
              "      <td>-16.0</td>\n",
              "      <td>NaN</td>\n",
              "      <td>34.0</td>\n",
              "      <td>NaN</td>\n",
              "      <td>0.0</td>\n",
              "      <td>NaN</td>\n",
              "      <td>NaN</td>\n",
              "      <td>M</td>\n",
              "      <td>NaN</td>\n",
              "      <td>M</td>\n",
              "      <td>0.0</td>\n",
              "      <td>NaN</td>\n",
              "      <td>52.0</td>\n",
              "      <td>NaN</td>\n",
              "      <td>1.0</td>\n",
              "      <td>NaN</td>\n",
              "      <td>35</td>\n",
              "      <td>NaN</td>\n",
              "    </tr>\n",
              "    <tr>\n",
              "      <th>2016-01-05</th>\n",
              "      <td>33</td>\n",
              "      <td>-73.58</td>\n",
              "      <td>45.5</td>\n",
              "      <td>MCTAVISH</td>\n",
              "      <td>7024745</td>\n",
              "      <td>2016-01-05</td>\n",
              "      <td>2016</td>\n",
              "      <td>1</td>\n",
              "      <td>5</td>\n",
              "      <td>NaN</td>\n",
              "      <td>-7.5</td>\n",
              "      <td>NaN</td>\n",
              "      <td>-19.0</td>\n",
              "      <td>NaN</td>\n",
              "      <td>-13.3</td>\n",
              "      <td>NaN</td>\n",
              "      <td>31.3</td>\n",
              "      <td>NaN</td>\n",
              "      <td>0.0</td>\n",
              "      <td>NaN</td>\n",
              "      <td>NaN</td>\n",
              "      <td>M</td>\n",
              "      <td>NaN</td>\n",
              "      <td>M</td>\n",
              "      <td>0.0</td>\n",
              "      <td>NaN</td>\n",
              "      <td>45.0</td>\n",
              "      <td>NaN</td>\n",
              "      <td>NaN</td>\n",
              "      <td>NaN</td>\n",
              "      <td>&lt;31</td>\n",
              "      <td>NaN</td>\n",
              "    </tr>\n",
              "  </tbody>\n",
              "</table>\n",
              "</div>"
            ],
            "text/plain": [
              "            ID_UNIQUE  ...  Spd of Max Gust Flag\n",
              "Date                   ...                      \n",
              "2016-01-01          3  ...                   NaN\n",
              "2016-01-02          8  ...                   NaN\n",
              "2016-01-03         10  ...                   NaN\n",
              "2016-01-04         21  ...                   NaN\n",
              "2016-01-05         33  ...                   NaN\n",
              "\n",
              "[5 rows x 32 columns]"
            ]
          },
          "metadata": {
            "tags": []
          },
          "execution_count": 35
        }
      ]
    },
    {
      "cell_type": "code",
      "metadata": {
        "id": "V61k8pgtlc1N"
      },
      "source": [
        "features = ['ID_UNIQUE', 'Month', 'Day', 'Max Temp (°C)', 'Min Temp (°C)', 'Total Precip (mm)', 'Snow on Grnd (cm)', 'Spd of Max Gust (km/h)']"
      ],
      "execution_count": 36,
      "outputs": []
    },
    {
      "cell_type": "code",
      "metadata": {
        "id": "rw6WJXH5oJl2"
      },
      "source": [
        "X = calls_and_weather[features].copy()"
      ],
      "execution_count": 37,
      "outputs": []
    },
    {
      "cell_type": "code",
      "metadata": {
        "id": "Tfb2sapCofBs",
        "outputId": "28454b74-b855-43bf-9220-742791c69a42",
        "colab": {
          "base_uri": "https://localhost:8080/",
          "height": 235
        }
      },
      "source": [
        "X.head()"
      ],
      "execution_count": 38,
      "outputs": [
        {
          "output_type": "execute_result",
          "data": {
            "text/html": [
              "<div>\n",
              "<style scoped>\n",
              "    .dataframe tbody tr th:only-of-type {\n",
              "        vertical-align: middle;\n",
              "    }\n",
              "\n",
              "    .dataframe tbody tr th {\n",
              "        vertical-align: top;\n",
              "    }\n",
              "\n",
              "    .dataframe thead th {\n",
              "        text-align: right;\n",
              "    }\n",
              "</style>\n",
              "<table border=\"1\" class=\"dataframe\">\n",
              "  <thead>\n",
              "    <tr style=\"text-align: right;\">\n",
              "      <th></th>\n",
              "      <th>ID_UNIQUE</th>\n",
              "      <th>Month</th>\n",
              "      <th>Day</th>\n",
              "      <th>Max Temp (°C)</th>\n",
              "      <th>Min Temp (°C)</th>\n",
              "      <th>Total Precip (mm)</th>\n",
              "      <th>Snow on Grnd (cm)</th>\n",
              "      <th>Spd of Max Gust (km/h)</th>\n",
              "    </tr>\n",
              "    <tr>\n",
              "      <th>Date</th>\n",
              "      <th></th>\n",
              "      <th></th>\n",
              "      <th></th>\n",
              "      <th></th>\n",
              "      <th></th>\n",
              "      <th></th>\n",
              "      <th></th>\n",
              "      <th></th>\n",
              "    </tr>\n",
              "  </thead>\n",
              "  <tbody>\n",
              "    <tr>\n",
              "      <th>2016-01-01</th>\n",
              "      <td>3</td>\n",
              "      <td>1</td>\n",
              "      <td>1</td>\n",
              "      <td>-0.1</td>\n",
              "      <td>-3.6</td>\n",
              "      <td>0.7</td>\n",
              "      <td>32.0</td>\n",
              "      <td>&lt;31</td>\n",
              "    </tr>\n",
              "    <tr>\n",
              "      <th>2016-01-02</th>\n",
              "      <td>8</td>\n",
              "      <td>1</td>\n",
              "      <td>2</td>\n",
              "      <td>0.4</td>\n",
              "      <td>-4.4</td>\n",
              "      <td>1.2</td>\n",
              "      <td>30.0</td>\n",
              "      <td>32</td>\n",
              "    </tr>\n",
              "    <tr>\n",
              "      <th>2016-01-03</th>\n",
              "      <td>10</td>\n",
              "      <td>1</td>\n",
              "      <td>3</td>\n",
              "      <td>0.2</td>\n",
              "      <td>-14.8</td>\n",
              "      <td>7.7</td>\n",
              "      <td>32.0</td>\n",
              "      <td>32</td>\n",
              "    </tr>\n",
              "    <tr>\n",
              "      <th>2016-01-04</th>\n",
              "      <td>21</td>\n",
              "      <td>1</td>\n",
              "      <td>4</td>\n",
              "      <td>-13.5</td>\n",
              "      <td>-18.5</td>\n",
              "      <td>0.0</td>\n",
              "      <td>52.0</td>\n",
              "      <td>35</td>\n",
              "    </tr>\n",
              "    <tr>\n",
              "      <th>2016-01-05</th>\n",
              "      <td>33</td>\n",
              "      <td>1</td>\n",
              "      <td>5</td>\n",
              "      <td>-7.5</td>\n",
              "      <td>-19.0</td>\n",
              "      <td>0.0</td>\n",
              "      <td>45.0</td>\n",
              "      <td>&lt;31</td>\n",
              "    </tr>\n",
              "  </tbody>\n",
              "</table>\n",
              "</div>"
            ],
            "text/plain": [
              "            ID_UNIQUE  Month  ...  Snow on Grnd (cm)  Spd of Max Gust (km/h)\n",
              "Date                          ...                                           \n",
              "2016-01-01          3      1  ...               32.0                     <31\n",
              "2016-01-02          8      1  ...               30.0                      32\n",
              "2016-01-03         10      1  ...               32.0                      32\n",
              "2016-01-04         21      1  ...               52.0                      35\n",
              "2016-01-05         33      1  ...               45.0                     <31\n",
              "\n",
              "[5 rows x 8 columns]"
            ]
          },
          "metadata": {
            "tags": []
          },
          "execution_count": 38
        }
      ]
    },
    {
      "cell_type": "markdown",
      "metadata": {
        "id": "kcpUiJtto8xb"
      },
      "source": [
        "# CLEAN FEATURES"
      ]
    },
    {
      "cell_type": "code",
      "metadata": {
        "id": "ETd2-AIzpAh-"
      },
      "source": [
        "X['Spd of Max Gust (km/h)'] = X['Spd of Max Gust (km/h)'].apply(lambda x: float(str(x).replace('<', '')))"
      ],
      "execution_count": 39,
      "outputs": []
    },
    {
      "cell_type": "code",
      "metadata": {
        "id": "pbnrJ8zCp3sF",
        "outputId": "373a5874-667f-4b1a-fae5-7b799cc83ac6",
        "colab": {
          "base_uri": "https://localhost:8080/",
          "height": 235
        }
      },
      "source": [
        "X.head()"
      ],
      "execution_count": 40,
      "outputs": [
        {
          "output_type": "execute_result",
          "data": {
            "text/html": [
              "<div>\n",
              "<style scoped>\n",
              "    .dataframe tbody tr th:only-of-type {\n",
              "        vertical-align: middle;\n",
              "    }\n",
              "\n",
              "    .dataframe tbody tr th {\n",
              "        vertical-align: top;\n",
              "    }\n",
              "\n",
              "    .dataframe thead th {\n",
              "        text-align: right;\n",
              "    }\n",
              "</style>\n",
              "<table border=\"1\" class=\"dataframe\">\n",
              "  <thead>\n",
              "    <tr style=\"text-align: right;\">\n",
              "      <th></th>\n",
              "      <th>ID_UNIQUE</th>\n",
              "      <th>Month</th>\n",
              "      <th>Day</th>\n",
              "      <th>Max Temp (°C)</th>\n",
              "      <th>Min Temp (°C)</th>\n",
              "      <th>Total Precip (mm)</th>\n",
              "      <th>Snow on Grnd (cm)</th>\n",
              "      <th>Spd of Max Gust (km/h)</th>\n",
              "    </tr>\n",
              "    <tr>\n",
              "      <th>Date</th>\n",
              "      <th></th>\n",
              "      <th></th>\n",
              "      <th></th>\n",
              "      <th></th>\n",
              "      <th></th>\n",
              "      <th></th>\n",
              "      <th></th>\n",
              "      <th></th>\n",
              "    </tr>\n",
              "  </thead>\n",
              "  <tbody>\n",
              "    <tr>\n",
              "      <th>2016-01-01</th>\n",
              "      <td>3</td>\n",
              "      <td>1</td>\n",
              "      <td>1</td>\n",
              "      <td>-0.1</td>\n",
              "      <td>-3.6</td>\n",
              "      <td>0.7</td>\n",
              "      <td>32.0</td>\n",
              "      <td>31.0</td>\n",
              "    </tr>\n",
              "    <tr>\n",
              "      <th>2016-01-02</th>\n",
              "      <td>8</td>\n",
              "      <td>1</td>\n",
              "      <td>2</td>\n",
              "      <td>0.4</td>\n",
              "      <td>-4.4</td>\n",
              "      <td>1.2</td>\n",
              "      <td>30.0</td>\n",
              "      <td>32.0</td>\n",
              "    </tr>\n",
              "    <tr>\n",
              "      <th>2016-01-03</th>\n",
              "      <td>10</td>\n",
              "      <td>1</td>\n",
              "      <td>3</td>\n",
              "      <td>0.2</td>\n",
              "      <td>-14.8</td>\n",
              "      <td>7.7</td>\n",
              "      <td>32.0</td>\n",
              "      <td>32.0</td>\n",
              "    </tr>\n",
              "    <tr>\n",
              "      <th>2016-01-04</th>\n",
              "      <td>21</td>\n",
              "      <td>1</td>\n",
              "      <td>4</td>\n",
              "      <td>-13.5</td>\n",
              "      <td>-18.5</td>\n",
              "      <td>0.0</td>\n",
              "      <td>52.0</td>\n",
              "      <td>35.0</td>\n",
              "    </tr>\n",
              "    <tr>\n",
              "      <th>2016-01-05</th>\n",
              "      <td>33</td>\n",
              "      <td>1</td>\n",
              "      <td>5</td>\n",
              "      <td>-7.5</td>\n",
              "      <td>-19.0</td>\n",
              "      <td>0.0</td>\n",
              "      <td>45.0</td>\n",
              "      <td>31.0</td>\n",
              "    </tr>\n",
              "  </tbody>\n",
              "</table>\n",
              "</div>"
            ],
            "text/plain": [
              "            ID_UNIQUE  Month  ...  Snow on Grnd (cm)  Spd of Max Gust (km/h)\n",
              "Date                          ...                                           \n",
              "2016-01-01          3      1  ...               32.0                    31.0\n",
              "2016-01-02          8      1  ...               30.0                    32.0\n",
              "2016-01-03         10      1  ...               32.0                    32.0\n",
              "2016-01-04         21      1  ...               52.0                    35.0\n",
              "2016-01-05         33      1  ...               45.0                    31.0\n",
              "\n",
              "[5 rows x 8 columns]"
            ]
          },
          "metadata": {
            "tags": []
          },
          "execution_count": 40
        }
      ]
    },
    {
      "cell_type": "markdown",
      "metadata": {
        "id": "y6HLSyyqqHQt"
      },
      "source": [
        "# HANDLE NaN VALUES"
      ]
    },
    {
      "cell_type": "code",
      "metadata": {
        "id": "qxXyTfAyo1Ii",
        "outputId": "c67d6fbb-55c5-4b18-96df-05230681dfa9",
        "colab": {
          "base_uri": "https://localhost:8080/",
          "height": 394
        }
      },
      "source": [
        "import seaborn as sns\n",
        "\n",
        "sns.heatmap(X.isna())"
      ],
      "execution_count": 41,
      "outputs": [
        {
          "output_type": "execute_result",
          "data": {
            "text/plain": [
              "<matplotlib.axes._subplots.AxesSubplot at 0x7f03d5a3a8d0>"
            ]
          },
          "metadata": {
            "tags": []
          },
          "execution_count": 41
        },
        {
          "output_type": "display_data",
          "data": {
            "image/png": "[encoded data removed]",
            "text/plain": [
              "<Figure size 432x288 with 2 Axes>"
            ]
          },
          "metadata": {
            "tags": [],
            "needs_background": "light"
          }
        }
      ]
    },
    {
      "cell_type": "code",
      "metadata": {
        "id": "E6V1F4nIqQKP"
      },
      "source": [
        "X[['Snow on Grnd (cm)', 'Spd of Max Gust (km/h)']] = X[['Snow on Grnd (cm)', 'Spd of Max Gust (km/h)']].fillna(0)"
      ],
      "execution_count": 42,
      "outputs": []
    },
    {
      "cell_type": "code",
      "metadata": {
        "id": "d9pV0vuNqbUN",
        "outputId": "6119e5c1-6b48-44ac-8b0c-df2c5baeab64",
        "colab": {
          "base_uri": "https://localhost:8080/",
          "height": 394
        }
      },
      "source": [
        "sns.heatmap(X.isna())"
      ],
      "execution_count": 43,
      "outputs": [
        {
          "output_type": "execute_result",
          "data": {
            "text/plain": [
              "<matplotlib.axes._subplots.AxesSubplot at 0x7f03d3138cf8>"
            ]
          },
          "metadata": {
            "tags": []
          },
          "execution_count": 43
        },
        {
          "output_type": "display_data",
          "data": {
            "image/png": "[encoded data removed]",
            "text/plain": [
              "<Figure size 432x288 with 2 Axes>"
            ]
          },
          "metadata": {
            "tags": [],
            "needs_background": "light"
          }
        }
      ]
    },
    {
      "cell_type": "code",
      "metadata": {
        "id": "gb4Q-CWSqe5Z"
      },
      "source": [
        "X = X.dropna()"
      ],
      "execution_count": 44,
      "outputs": []
    },
    {
      "cell_type": "markdown",
      "metadata": {
        "id": "F-wmrZ4Wq9sv"
      },
      "source": [
        "# SPLIT THE DATA"
      ]
    },
    {
      "cell_type": "code",
      "metadata": {
        "id": "5DSqyrwlq_C5"
      },
      "source": [
        "y = X[features[0]]\n",
        "X = X[features[1:]]"
      ],
      "execution_count": 45,
      "outputs": []
    },
    {
      "cell_type": "code",
      "metadata": {
        "id": "7NUJunpHtuOw"
      },
      "source": [
        "from sklearn.model_selection import train_test_split\n",
        "X_train, X_test, y_train, y_test = train_test_split(X, y, test_size=0.33, random_state=42)"
      ],
      "execution_count": 46,
      "outputs": []
    },
    {
      "cell_type": "markdown",
      "metadata": {
        "id": "xewD_Ha0sqJQ"
      },
      "source": [
        "# TRAIN YOUR REGRESSOR"
      ]
    },
    {
      "cell_type": "code",
      "metadata": {
        "id": "mHxsZuH8rhz3"
      },
      "source": [
        "from sklearn.linear_model import Ridge"
      ],
      "execution_count": 47,
      "outputs": []
    },
    {
      "cell_type": "code",
      "metadata": {
        "id": "_2zVT-JSsshP",
        "outputId": "2b8c3f4f-1779-462b-a652-82bb07d9fd8c",
        "colab": {
          "base_uri": "https://localhost:8080/"
        }
      },
      "source": [
        "model = Ridge()\n",
        "\n",
        "model.fit(X_train, y_train)"
      ],
      "execution_count": 48,
      "outputs": [
        {
          "output_type": "execute_result",
          "data": {
            "text/plain": [
              "Ridge(alpha=1.0, copy_X=True, fit_intercept=True, max_iter=None,\n",
              "      normalize=False, random_state=None, solver='auto', tol=0.001)"
            ]
          },
          "metadata": {
            "tags": []
          },
          "execution_count": 48
        }
      ]
    },
    {
      "cell_type": "markdown",
      "metadata": {
        "id": "efJEh7tSt4L4"
      },
      "source": [
        "# EVALUATE PERFORMANCE"
      ]
    },
    {
      "cell_type": "code",
      "metadata": {
        "id": "PJPoL8MQswHK",
        "outputId": "666ef4d8-05ce-41be-95fd-d356cb3b38f5",
        "colab": {
          "base_uri": "https://localhost:8080/"
        }
      },
      "source": [
        "from sklearn.metrics import mean_absolute_error\n",
        "\n",
        "predictions = model.predict(X_test)\n",
        "\n",
        "mae = mean_absolute_error(y_test, predictions)\n",
        "print(f'Mean Absolute Error: {mae} Calls')"
      ],
      "execution_count": 49,
      "outputs": [
        {
          "output_type": "stream",
          "text": [
            "Mean Absolute Error: 8.866059140223566 Calls\n"
          ],
          "name": "stdout"
        }
      ]
    },
    {
      "cell_type": "code",
      "metadata": {
        "id": "2-dRcD2qumqH"
      },
      "source": [
        "import matplotlib.pyplot as plt"
      ],
      "execution_count": 50,
      "outputs": []
    },
    {
      "cell_type": "code",
      "metadata": {
        "id": "UqOnxZUiu2es",
        "outputId": "1d2c8712-7750-4f93-af41-ce7db2d7dc29",
        "colab": {
          "base_uri": "https://localhost:8080/",
          "height": 296
        }
      },
      "source": [
        "plt.scatter(y_test, predictions)\n",
        "plt.xlabel(\"True\")\n",
        "plt.ylabel(\"Predicted\")"
      ],
      "execution_count": 51,
      "outputs": [
        {
          "output_type": "execute_result",
          "data": {
            "text/plain": [
              "Text(0, 0.5, 'Predicted')"
            ]
          },
          "metadata": {
            "tags": []
          },
          "execution_count": 51
        },
        {
          "output_type": "display_data",
          "data": {
            "image/png": "[encoded data removed]",
            "text/plain": [
              "<Figure size 432x288 with 1 Axes>"
            ]
          },
          "metadata": {
            "tags": [],
            "needs_background": "light"
          }
        }
      ]
    },
    {
      "cell_type": "markdown",
      "metadata": {
        "id": "pwLaAIyov3Uw"
      },
      "source": [
        "# TRY GRADIENT BOOSTING"
      ]
    },
    {
      "cell_type": "code",
      "metadata": {
        "id": "91mVN2wQu4eo",
        "outputId": "925f36b8-5dc7-47d3-c61f-638cfb0ac836",
        "colab": {
          "base_uri": "https://localhost:8080/"
        }
      },
      "source": [
        "from sklearn.ensemble import GradientBoostingRegressor\n",
        "\n",
        "gb = GradientBoostingRegressor()\n",
        "gb.fit(X_train, y_train)\n",
        "\n",
        "gb_predictions = gb.predict(X_test)\n",
        "\n",
        "mae = mean_absolute_error(y_test, gb_predictions)\n",
        "print(f'Mean Absolute Error: {mae} Calls')"
      ],
      "execution_count": 52,
      "outputs": [
        {
          "output_type": "stream",
          "text": [
            "Mean Absolute Error: 7.993472250389217 Calls\n"
          ],
          "name": "stdout"
        }
      ]
    },
    {
      "cell_type": "code",
      "metadata": {
        "id": "z8ALQwLPvqN8",
        "outputId": "f3d00ba4-1ca4-4fed-8f04-120f81c9d1fe",
        "colab": {
          "base_uri": "https://localhost:8080/",
          "height": 296
        }
      },
      "source": [
        "plt.scatter(y_test, gb_predictions)\n",
        "plt.xlabel(\"True\")\n",
        "plt.ylabel(\"Predicted\")"
      ],
      "execution_count": 53,
      "outputs": [
        {
          "output_type": "execute_result",
          "data": {
            "text/plain": [
              "Text(0, 0.5, 'Predicted')"
            ]
          },
          "metadata": {
            "tags": []
          },
          "execution_count": 53
        },
        {
          "output_type": "display_data",
          "data": {
            "image/png": "[encoded data removed]",
            "text/plain": [
              "<Figure size 432x288 with 1 Axes>"
            ]
          },
          "metadata": {
            "tags": [],
            "needs_background": "light"
          }
        }
      ]
    }
  ]
}